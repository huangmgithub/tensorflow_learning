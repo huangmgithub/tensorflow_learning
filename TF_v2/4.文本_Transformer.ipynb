{
 "cells": [
  {
   "cell_type": "markdown",
   "metadata": {},
   "source": [
    "# 理解语言的 Transformer 模型"
   ]
  },
  {
   "cell_type": "markdown",
   "metadata": {},
   "source": [
    "Transformer 模型的核心思想是自注意力机制（self-attention）——能注意输入序列的不同位置以计算该序列的表示的能力。Transformer 创建了多层自注意力层（self-attetion layers）组成的堆栈，下文的按比缩放的点积注意力（Scaled dot product attention）和多头注意力（Multi-head attention）部分对此进行了说明"
   ]
  },
  {
   "cell_type": "markdown",
   "metadata": {},
   "source": [
    "一个 transformer 模型用自注意力层而非 RNNs 或 CNNs 来处理变长的输入。这种通用架构有一系列的优势：\n",
    "+ 它不对数据间的时间/空间关系做任何假设。这是处理一组对象（objects）的理想选择（例如，星际争霸单位（StarCraft units））。\n",
    "+ 远距离项可以影响彼此的输出，而无需经过许多 RNN 步骤或卷积层（例如，参见场景记忆 Transformer（Scene Memory Transformer））\n",
    "+ 它能学习长距离的依赖。在许多序列任务中，这是一项挑战。  \n",
    "\n",
    "\n",
    "该架构的缺点是：\n",
    "+ 对于时间序列，一个单位时间的输出是从整个历史记录计算的，而非仅从输入和当前的隐含状态计算得到。这可能效率较低。\n",
    "+ 如果输入确实有时间/空间的关系，像文本，则必须加入一些位置编码，否则模型将有效地看到一堆单词。"
   ]
  },
  {
   "cell_type": "markdown",
   "metadata": {},
   "source": [
    "在此 notebook 中训练完模型后，您将能输入葡萄牙语句子，得到其英文翻译。"
   ]
  },
  {
   "cell_type": "markdown",
   "metadata": {},
   "source": [
    "![translation](https://tensorflow.google.cn/images/tutorials/transformer/attention_map_portuguese.png)"
   ]
  },
  {
   "cell_type": "code",
   "execution_count": 65,
   "metadata": {},
   "outputs": [],
   "source": [
    "from __future__ import absolute_import, division, print_function, unicode_literals\n",
    "\n",
    "# try:\n",
    "#     !pip install -q tf-nightly\n",
    "# except Exception:\n",
    "#     pass\n",
    "\n",
    "import tensorflow as tf\n",
    "import tensorflow_datasets as tfds\n",
    "\n",
    "import time\n",
    "import numpy as np\n",
    "import matplotlib.pyplot as plt\n",
    "%matplotlib inline"
   ]
  },
  {
   "cell_type": "code",
   "execution_count": 2,
   "metadata": {},
   "outputs": [
    {
     "data": {
      "text/plain": [
       "'2.0.0'"
      ]
     },
     "execution_count": 2,
     "metadata": {},
     "output_type": "execute_result"
    }
   ],
   "source": [
    "tf.__version__"
   ]
  },
  {
   "cell_type": "markdown",
   "metadata": {},
   "source": [
    "## 设置输入流水线(input pipeline)"
   ]
  },
  {
   "cell_type": "markdown",
   "metadata": {},
   "source": [
    "使用 TFDS 来导入 葡萄牙语-英语翻译数据集，该数据集来自于 TED 演讲开放翻译项目.\n",
    "\n",
    "该数据集包含来约 50000 条训练样本，1100 条验证样本，以及 2000 条测试样本。"
   ]
  },
  {
   "cell_type": "code",
   "execution_count": 3,
   "metadata": {},
   "outputs": [],
   "source": [
    "examples, metadata = tfds.load(\n",
    "    \"ted_hrlr_translate/pt_to_en\",\n",
    "    with_info = True,\n",
    "    as_supervised = True\n",
    ")\n",
    "train_examples, val_examples = examples[\"train\"], examples[\"validation\"]"
   ]
  },
  {
   "cell_type": "markdown",
   "metadata": {},
   "source": [
    "从训练数据集创建自定义子词分词器（subwords tokenizer）"
   ]
  },
  {
   "cell_type": "code",
   "execution_count": 4,
   "metadata": {},
   "outputs": [],
   "source": [
    "tokenizer_en = tfds.features.text.SubwordTextEncoder.build_from_corpus(\n",
    "    (en.numpy() for pt, en in train_examples), target_vocab_size=2**13)\n",
    "\n",
    "tokenizer_pt = tfds.features.text.SubwordTextEncoder.build_from_corpus(\n",
    "    (pt.numpy() for pt, en in train_examples), target_vocab_size=2**13)"
   ]
  },
  {
   "cell_type": "code",
   "execution_count": 5,
   "metadata": {},
   "outputs": [
    {
     "name": "stdout",
     "output_type": "stream",
     "text": [
      "Tokenized string is [7915, 1248, 7946, 7194, 13, 2799]\n",
      "The original string :Transformer is awesome\n"
     ]
    }
   ],
   "source": [
    "sample_string = \"Transformer is awesome\"\n",
    "\n",
    "tokenized_string = tokenizer_en.encode(sample_string)\n",
    "print(\"Tokenized string is {}\".format(tokenized_string))\n",
    "\n",
    "original_string = tokenizer_en.decode(tokenized_string)\n",
    "print(\"The original string :{}\".format(original_string))\n",
    "\n",
    "assert original_string == sample_string"
   ]
  },
  {
   "cell_type": "markdown",
   "metadata": {},
   "source": [
    "如果单词不在词典中，则分词器（tokenizer）通过将单词分解为子词来对字符串进行编码。"
   ]
  },
  {
   "cell_type": "code",
   "execution_count": 6,
   "metadata": {},
   "outputs": [
    {
     "data": {
      "text/plain": [
       "8087"
      ]
     },
     "execution_count": 6,
     "metadata": {},
     "output_type": "execute_result"
    }
   ],
   "source": [
    "tokenizer_en.vocab_size"
   ]
  },
  {
   "cell_type": "code",
   "execution_count": 7,
   "metadata": {},
   "outputs": [
    {
     "name": "stdout",
     "output_type": "stream",
     "text": [
      "7915 ----> T\n",
      "1248 ----> ran\n",
      "7946 ----> s\n",
      "7194 ----> former \n",
      "13 ----> is \n",
      "2799 ----> awesome\n"
     ]
    }
   ],
   "source": [
    "for ts in tokenized_string:\n",
    "    print(\"{} ----> {}\".format(ts, tokenizer_en.decode([ts])))"
   ]
  },
  {
   "cell_type": "code",
   "execution_count": 8,
   "metadata": {},
   "outputs": [],
   "source": [
    "BUFFER_SIZE = 20000\n",
    "BATCH_SIZE = 64"
   ]
  },
  {
   "cell_type": "markdown",
   "metadata": {},
   "source": [
    "将开始和结束标记（token）添加到输入和目标。"
   ]
  },
  {
   "cell_type": "code",
   "execution_count": 101,
   "metadata": {},
   "outputs": [],
   "source": [
    "def encode(lang1, lang2):\n",
    "    \"\"\"将开始和结束token添加进输入和目标输出中\"\"\"\n",
    "    lang1 = [tokenizer_pt.vocab_size] + tokenizer_pt.encode(\n",
    "            lang1.numpy()) + [tokenizer_pt.vocab_size+ 1]\n",
    "    \n",
    "    lang2 = [tokenizer_en.vocab_size] + tokenizer_en.encode(\n",
    "            lang2.numpy()) + [tokenizer_en.vocab_size + 1]\n",
    "    \n",
    "    return lang1, lang2"
   ]
  },
  {
   "cell_type": "markdown",
   "metadata": {},
   "source": [
    "Note：为了使本示例较小且相对较快，删除长度大于40个标记的样本。"
   ]
  },
  {
   "cell_type": "code",
   "execution_count": 10,
   "metadata": {},
   "outputs": [],
   "source": [
    "MAX_LENGTH = 40"
   ]
  },
  {
   "cell_type": "code",
   "execution_count": 11,
   "metadata": {},
   "outputs": [],
   "source": [
    "# tf.logical_and 相当于逻辑与\n",
    "def filter_max_length(x, y, max_length=MAX_LENGTH):\n",
    "    return tf.logical_and(tf.size(x) <= max_length,\n",
    "                         tf.size(y) <= max_length)"
   ]
  },
  {
   "cell_type": "markdown",
   "metadata": {},
   "source": [
    ".map() 内部的操作以图模式（graph mode）运行，.map() 接收一个不具有 numpy 属性的图张量（graph tensor）。该分词器（tokenizer）需要将一个字符串或 Unicode 符号，编码成整数。因此，您需要在 tf.py_function 内部运行编码过程，tf.py_function 接收一个 eager 张量，该 eager 张量有一个包含字符串值的 numpy 属性。"
   ]
  },
  {
   "cell_type": "code",
   "execution_count": 12,
   "metadata": {},
   "outputs": [],
   "source": [
    "# tf.py_function(func, inp, Tout)\n",
    "def tf_encode(pt, en):\n",
    "    result_pt, result_en = tf.py_function(encode, [pt, en], [tf.int64, tf.int64])\n",
    "    result_pt.set_shape([None])\n",
    "    result_en.set_shape([None])\n",
    "    \n",
    "    return result_pt, result_en"
   ]
  },
  {
   "cell_type": "code",
   "execution_count": 13,
   "metadata": {},
   "outputs": [],
   "source": [
    "train_dataset = train_examples.map(tf_encode)\n",
    "train_dataset = train_dataset.filter(filter_max_length)\n",
    "# 将数据集缓存到内存中以加快读取速度\n",
    "train_dataset = train_dataset.cache()\n",
    "train_dataset = train_dataset.shuffle(BUFFER_SIZE).padded_batch(BATCH_SIZE, padded_shapes=([None], [None]))\n",
    "train_dataset = train_dataset.prefetch(tf.data.experimental.AUTOTUNE)\n",
    "\n",
    "val_dataset = val_examples.map(tf_encode)\n",
    "val_dataset = val_dataset.filter(filter_max_length).padded_batch(BATCH_SIZE, padded_shapes=([None], [None]))"
   ]
  },
  {
   "cell_type": "code",
   "execution_count": 14,
   "metadata": {},
   "outputs": [
    {
     "data": {
      "text/plain": [
       "(<tf.Tensor: id=207703, shape=(64, 38), dtype=int64, numpy=\n",
       " array([[8214,  342, 3032, ...,    0,    0,    0],\n",
       "        [8214,   95,  198, ...,    0,    0,    0],\n",
       "        [8214, 4479, 7990, ...,    0,    0,    0],\n",
       "        ...,\n",
       "        [8214,  584,   12, ...,    0,    0,    0],\n",
       "        [8214,   59, 1548, ...,    0,    0,    0],\n",
       "        [8214,  118,   34, ...,    0,    0,    0]], dtype=int64)>,\n",
       " <tf.Tensor: id=207704, shape=(64, 40), dtype=int64, numpy=\n",
       " array([[8087,   98,   25, ...,    0,    0,    0],\n",
       "        [8087,   12,   20, ...,    0,    0,    0],\n",
       "        [8087,   12, 5453, ...,    0,    0,    0],\n",
       "        ...,\n",
       "        [8087,   18, 2059, ...,    0,    0,    0],\n",
       "        [8087,   16, 1436, ...,    0,    0,    0],\n",
       "        [8087,   15,   57, ...,    0,    0,    0]], dtype=int64)>)"
      ]
     },
     "execution_count": 14,
     "metadata": {},
     "output_type": "execute_result"
    }
   ],
   "source": [
    "pt_batch, en_batch = next(iter(val_dataset))\n",
    "pt_batch, en_batch"
   ]
  },
  {
   "cell_type": "markdown",
   "metadata": {},
   "source": [
    "## 位置编码"
   ]
  },
  {
   "cell_type": "markdown",
   "metadata": {},
   "source": [
    "因为该模型并不包括任何的循环（recurrence）或卷积，所以模型添加了位置编码，为模型提供一些关于单词在句子中相对位置的信息。\n",
    "\n",
    "位置编码向量被加到嵌入（embedding）向量中。嵌入表示一个 d 维空间的标记，在 d 维空间中有着相似含义的标记会离彼此更近。但是，嵌入并没有对在一句话中的词的相对位置进行编码。因此，当加上位置编码后，词将基于它们含义的相似度以及它们在句子中的位置，在 d 维空间中离彼此更近。"
   ]
  },
  {
   "cell_type": "markdown",
   "metadata": {},
   "source": [
    "参看 位置编码 的 notebook 了解更多信息。计算位置编码的公式如下：\n",
    "\n",
    "$$ PE_{(pos, 2i)} = sin(pos/10000^{2i/d_{model}}) $$\n",
    "$$ PE_{(pos, 2i+1)} = cos(pos/10000^{2i/d_{model}}) $$"
   ]
  },
  {
   "cell_type": "code",
   "execution_count": 15,
   "metadata": {},
   "outputs": [],
   "source": [
    "def get_angles(pos, i, d_model):\n",
    "    angles_rates = 1 / np.power(10000, (2 * (i // 2)) / np.float32(d_model))\n",
    "    return pos * angles_rates"
   ]
  },
  {
   "cell_type": "code",
   "execution_count": 16,
   "metadata": {},
   "outputs": [],
   "source": [
    "def positional_encoding(position, d_model):\n",
    "    angle_rads = get_angles(np.arange(position)[:, np.newaxis],\n",
    "                           np.arange(d_model)[np.newaxis, :],\n",
    "                           d_model)\n",
    "    # 将sin应用于数组中的偶数索引（indices），2i\n",
    "    angle_rads[:, 0::2] = np.sin(angle_rads[:, 0::2])\n",
    "    # 将cos应用于数组中的奇数索引， 2i + 1\n",
    "    angle_rads[:, 1::2] = np.cos(angle_rads[:, 1::2])\n",
    "    \n",
    "    pos_encoding = angle_rads[np.newaxis, ...]\n",
    "    \n",
    "    return tf.cast(pos_encoding, dtype=tf.float32)"
   ]
  },
  {
   "cell_type": "code",
   "execution_count": 17,
   "metadata": {},
   "outputs": [
    {
     "name": "stdout",
     "output_type": "stream",
     "text": [
      "(1, 50, 512)\n"
     ]
    },
    {
     "data": {
      "image/png": "[encoded data removed]",
      "text/plain": [
       "<Figure size 432x288 with 2 Axes>"
      ]
     },
     "metadata": {
      "needs_background": "light"
     },
     "output_type": "display_data"
    }
   ],
   "source": [
    "pos_encoding = positional_encoding(50, 512)\n",
    "print(pos_encoding.shape)\n",
    "\n",
    "plt.pcolormesh(pos_encoding[0], cmap=\"RdBu\")\n",
    "plt.xlabel(\"Depth\")\n",
    "plt.xlim((0, 512))\n",
    "plt.ylabel(\"Position\")\n",
    "plt.colorbar()\n",
    "plt.show()"
   ]
  },
  {
   "cell_type": "markdown",
   "metadata": {},
   "source": [
    "## 遮挡(Masking)"
   ]
  },
  {
   "cell_type": "markdown",
   "metadata": {},
   "source": [
    "遮挡一批序列中所有的填充标记（pad tokens）。这确保模型不会将填充作为输入。该 mask 表明填充值 0 出现的位置：在这些位置 mask 输出 1，否则输出 0。"
   ]
  },
  {
   "cell_type": "code",
   "execution_count": 18,
   "metadata": {},
   "outputs": [],
   "source": [
    "def create_padding_mask(seq):\n",
    "    seq = tf.cast(tf.math.equal(seq, 0), tf.float32)\n",
    "    \n",
    "    # 添加额外的维度来将填充加到 注意力对数（logits）\n",
    "    return seq[:, tf.newaxis, tf.newaxis, :] # (batch_size, 1, 1, seq_len)"
   ]
  },
  {
   "cell_type": "code",
   "execution_count": 19,
   "metadata": {},
   "outputs": [
    {
     "data": {
      "text/plain": [
       "<tf.Tensor: id=207718, shape=(3, 1, 1, 5), dtype=float32, numpy=\n",
       "array([[[[0., 0., 1., 1., 0.]]],\n",
       "\n",
       "\n",
       "       [[[0., 0., 0., 1., 1.]]],\n",
       "\n",
       "\n",
       "       [[[1., 1., 1., 0., 0.]]]], dtype=float32)>"
      ]
     },
     "execution_count": 19,
     "metadata": {},
     "output_type": "execute_result"
    }
   ],
   "source": [
    "x = tf.constant([[7, 6, 0, 0, 1], [1, 2, 3, 0, 0], [0, 0, 0, 4, 5]])\n",
    "create_padding_mask(x)"
   ]
  },
  {
   "cell_type": "markdown",
   "metadata": {},
   "source": [
    "前瞻遮挡（look-ahead mask）用于遮挡一个序列中的后续标记（future tokens）。换句话说，该 mask 表明了不应该使用的条目。"
   ]
  },
  {
   "cell_type": "markdown",
   "metadata": {},
   "source": [
    "这意味着要预测第三个词，将仅使用第一个和第二个词。与此类似，预测第四个词，仅使用第一个，第二个和第三个词，依此类推"
   ]
  },
  {
   "cell_type": "code",
   "execution_count": 20,
   "metadata": {},
   "outputs": [],
   "source": [
    "# tf.linalg.band_part  https://blog.csdn.net/weixin_44815943/article/details/104375784?\n",
    "\n",
    "def create_look_ahead_mask(size):\n",
    "    mask = 1 - tf.linalg.band_part(tf.ones((size, size)), -1, 0)\n",
    "    return mask # (seq_len, seq_len)"
   ]
  },
  {
   "cell_type": "code",
   "execution_count": 21,
   "metadata": {},
   "outputs": [
    {
     "data": {
      "text/plain": [
       "<tf.Tensor: id=207733, shape=(3, 3), dtype=float32, numpy=\n",
       "array([[0., 1., 1.],\n",
       "       [0., 0., 1.],\n",
       "       [0., 0., 0.]], dtype=float32)>"
      ]
     },
     "execution_count": 21,
     "metadata": {},
     "output_type": "execute_result"
    }
   ],
   "source": [
    "x = tf.random.uniform((1,3))\n",
    "temp = create_look_ahead_mask(x.shape[1])\n",
    "temp"
   ]
  },
  {
   "cell_type": "markdown",
   "metadata": {},
   "source": [
    "## 按比缩放的点积注意力(Scaled dot product attention)"
   ]
  },
  {
   "cell_type": "markdown",
   "metadata": {},
   "source": [
    "![Dot-Product](https://tensorflow.google.cn/images/tutorials/transformer/scaled_attention.png)"
   ]
  },
  {
   "cell_type": "markdown",
   "metadata": {},
   "source": [
    "Transformer 使用的注意力函数有三个输入：Q（请求（query））、K（主键（key））、V（数值（value））。用于计算注意力权重的等式为："
   ]
  },
  {
   "cell_type": "markdown",
   "metadata": {},
   "source": [
    "$$ Attention(Q, K, V) = softmax(\\frac{QK^T}{\\sqrt{d_k}})V $$"
   ]
  },
  {
   "cell_type": "markdown",
   "metadata": {},
   "source": [
    "点积注意力被缩小了深度的平方根倍。这样做是因为对于较大的深度值，点积的大小会增大，从而推动 softmax 函数往仅有很小的梯度的方向靠拢，导致了一种很硬的（hard）softmax。"
   ]
  },
  {
   "cell_type": "markdown",
   "metadata": {},
   "source": [
    "例如，假设 Q 和 K 的均值为0，方差为1。它们的矩阵乘积将有均值为0，方差为 dk。因此，dk 的平方根被用于缩放（而非其他数值），因为，Q 和 K 的矩阵乘积的均值本应该为 0，方差本应该为1，这样会获得一个更平缓的 softmax。"
   ]
  },
  {
   "cell_type": "markdown",
   "metadata": {},
   "source": [
    "遮挡（mask）与 -1e9（接近于负无穷）相乘。这样做是因为遮挡与缩放的 Q 和 K 的矩阵乘积相加，并在 softmax 之前立即应用。目标是将这些单元归零，因为 softmax 的较大负数输入在输出中接近于零。"
   ]
  },
  {
   "cell_type": "code",
   "execution_count": 22,
   "metadata": {},
   "outputs": [],
   "source": [
    "def scaled_dot_prodcut_attention(q, k, v, mask):\n",
    "    \"\"\"计算注意力权重。\n",
    "      q, k, v 必须具有匹配的前置维度。\n",
    "      k, v 必须有匹配的倒数第二个维度，例如：seq_len_k = seq_len_v。\n",
    "      虽然 mask 根据其类型（填充或前瞻）有不同的形状，\n",
    "      但是 mask 必须能进行广播转换以便求和。\n",
    "      \n",
    "      参数:\n",
    "        q: 请求的形状 == (..., seq_len_q, depth)\n",
    "        k: 主键的形状 == (..., seq_len_k, depth)\n",
    "        v: 数值的形状 == (..., seq_len_v, depth_v)\n",
    "        mask: Float 张量，其形状能转换成\n",
    "          (..., seq_len_q, seq_len_k)。默认为None。\n",
    "    \n",
    "      返回值:\n",
    "        输出，注意力权重\n",
    "      \"\"\"\n",
    "    matmul_qk = tf.matmul(q, k, transpose_b=True) # (.., seq_len_q, seq_len_k)\n",
    "    \n",
    "    # 缩放 matmul_qk\n",
    "    dk = tf.cast(tf.shape(k)[-1], tf.float32)\n",
    "    scaled_attention_logits = matmul_qk / tf.math.sqrt(dk)\n",
    "    \n",
    "    # 将mask加入到缩放的张量上\n",
    "    if mask is not None:\n",
    "        scaled_attention_logits += (mask * -1e9) # 乘以-1e9\n",
    "    \n",
    "    # softmax 在最后一个轴(seq_len_k)上归一化，因此分数相加等于1\n",
    "    attention_weights = tf.nn.softmax(scaled_attention_logits, axis=1) # # (..., seq_len_q, seq_len_k)\n",
    "    \n",
    "    output = tf.matmul(attention_weights, v) # (..., seq_len_q, depth_v)\n",
    "    \n",
    "    return output, attention_weights"
   ]
  },
  {
   "cell_type": "markdown",
   "metadata": {},
   "source": [
    "当 softmax 在 K 上进行归一化后，它的值决定了分配到 Q 的重要程度。\n",
    "\n",
    "输出表示注意力权重和 V（数值）向量的乘积。这确保了要关注的词保持原样，而无关的词将被清除掉。"
   ]
  },
  {
   "cell_type": "code",
   "execution_count": 23,
   "metadata": {},
   "outputs": [],
   "source": [
    "def print_out(q, k, v):\n",
    "    temp_out, temp_attn = scaled_dot_prodcut_attention(\n",
    "        q, k, v, None)\n",
    "    print(\"Attention weights are:\")\n",
    "    print(temp_attn)\n",
    "    print(\"Output is :\")\n",
    "    print(temp_out)"
   ]
  },
  {
   "cell_type": "code",
   "execution_count": 24,
   "metadata": {},
   "outputs": [
    {
     "name": "stdout",
     "output_type": "stream",
     "text": [
      "Attention weights are:\n",
      "tf.Tensor([[0. 1. 0. 0.]], shape=(1, 4), dtype=float32)\n",
      "Output is :\n",
      "tf.Tensor([[10.  0.]], shape=(1, 2), dtype=float32)\n"
     ]
    }
   ],
   "source": [
    "np.set_printoptions(suppress=True)\n",
    "\n",
    "temp_k = tf.constant([[10,0,0],\n",
    "                      [0,10,0],\n",
    "                      [0,0,10],\n",
    "                      [0,0,10]], dtype=tf.float32)  # (4, 3)\n",
    "\n",
    "temp_v = tf.constant([[   1,0],\n",
    "                      [  10,0],\n",
    "                      [ 100,5],\n",
    "                      [1000,6]], dtype=tf.float32)  # (4, 2)\n",
    "\n",
    "# 这条请求query符合第二个主键key， 因此返回了第二个value\n",
    "temp_q = tf.constant([[0,10,0]], dtype=tf.float32) # (1 ,3)\n",
    "print_out(temp_q, temp_k, temp_v)"
   ]
  },
  {
   "cell_type": "code",
   "execution_count": 25,
   "metadata": {},
   "outputs": [
    {
     "name": "stdout",
     "output_type": "stream",
     "text": [
      "Attention weights are:\n",
      "tf.Tensor([[0.  0.  0.5 0.5]], shape=(1, 4), dtype=float32)\n",
      "Output is :\n",
      "tf.Tensor([[550.    5.5]], shape=(1, 2), dtype=float32)\n"
     ]
    }
   ],
   "source": [
    "# 这条请求符合重复出现的主键（第三第四个），\n",
    "# 因此，对所有的相关数值取了平均\n",
    "temp_q = tf.constant([[0, 0, 10]], dtype=tf.float32)  # (1, 3)\n",
    "print_out(temp_q, temp_k, temp_v)"
   ]
  },
  {
   "cell_type": "code",
   "execution_count": 26,
   "metadata": {},
   "outputs": [
    {
     "name": "stdout",
     "output_type": "stream",
     "text": [
      "Attention weights are:\n",
      "tf.Tensor([[0.5 0.5 0.  0. ]], shape=(1, 4), dtype=float32)\n",
      "Output is :\n",
      "tf.Tensor([[5.5 0. ]], shape=(1, 2), dtype=float32)\n"
     ]
    }
   ],
   "source": [
    "# 这条请求符合第一和第二条主键，\n",
    "# 因此，对它们的数值去了平均。\n",
    "temp_q = tf.constant([[10, 10, 0]], dtype=tf.float32)  # (1, 3)\n",
    "print_out(temp_q, temp_k, temp_v)"
   ]
  },
  {
   "cell_type": "markdown",
   "metadata": {},
   "source": [
    "将所有请求一起传递"
   ]
  },
  {
   "cell_type": "code",
   "execution_count": 27,
   "metadata": {},
   "outputs": [
    {
     "name": "stdout",
     "output_type": "stream",
     "text": [
      "Attention weights are:\n",
      "tf.Tensor(\n",
      "[[0.  0.  0.5 0.5]\n",
      " [0.  1.  0.  0. ]\n",
      " [0.5 0.5 0.  0. ]], shape=(3, 4), dtype=float32)\n",
      "Output is :\n",
      "tf.Tensor(\n",
      "[[550.    5.5]\n",
      " [ 10.    0. ]\n",
      " [  5.5   0. ]], shape=(3, 2), dtype=float32)\n"
     ]
    }
   ],
   "source": [
    "temp_q = tf.constant([[0, 0, 10], [0, 10, 0], [10, 10, 0]], dtype=tf.float32)  # (3, 3)\n",
    "print_out(temp_q, temp_k, temp_v)"
   ]
  },
  {
   "cell_type": "markdown",
   "metadata": {},
   "source": [
    "## 多头注意力（Multi-head attention）"
   ]
  },
  {
   "cell_type": "markdown",
   "metadata": {},
   "source": [
    "![Multi](https://tensorflow.google.cn/images/tutorials/transformer/multi_head_attention.png)"
   ]
  },
  {
   "cell_type": "markdown",
   "metadata": {},
   "source": [
    "多头注意力由四部分组成：\n",
    "\n",
    "+ 线性层并分拆成多头。\n",
    "+ 按比缩放的点积注意力。\n",
    "+ 多头及联。\n",
    "+ 最后一层线性层"
   ]
  },
  {
   "cell_type": "markdown",
   "metadata": {},
   "source": [
    "每个多头注意力块有三个输入：Q（请求）、K（主键）、V（数值）。这些输入经过线性（Dense）层，并分拆成多头。"
   ]
  },
  {
   "cell_type": "markdown",
   "metadata": {},
   "source": [
    "将上面定义的 scaled_dot_product_attention 函数应用于每个头（进行了广播（broadcasted）以提高效率）。注意力这步必须使用一个恰当的 mask。然后将每个头的注意力输出连接起来（用tf.transpose 和 tf.reshape），并放入最后的 Dense 层。"
   ]
  },
  {
   "cell_type": "markdown",
   "metadata": {},
   "source": [
    "Q、K、和 V 被拆分到了多个头，而非单个的注意力头，因为多头允许模型共同注意来自不同表示空间的不同位置的信息。在分拆后，每个头部的维度减少，因此总的计算成本与有着全部维度的单个注意力头相同。"
   ]
  },
  {
   "cell_type": "code",
   "execution_count": 28,
   "metadata": {},
   "outputs": [],
   "source": [
    "class MultiHeadAttention(tf.keras.layers.Layer):\n",
    "    def __init__(self, d_model, num_heads):\n",
    "        super(MultiHeadAttention, self).__init__()\n",
    "        self.num_heads = num_heads\n",
    "        self.d_model = d_model\n",
    "        \n",
    "        assert d_model % self.num_heads == 0\n",
    "        \n",
    "        self.depth = d_model // self.num_heads\n",
    "        \n",
    "        self.wq = tf.keras.layers.Dense(d_model)\n",
    "        self.wk = tf.keras.layers.Dense(d_model)\n",
    "        self.wv = tf.keras.layers.Dense(d_model)\n",
    "        \n",
    "        self.dense = tf.keras.layers.Dense(d_model)\n",
    "        \n",
    "    def split_heads(self, x, batch_size):\n",
    "        \"\"\"分拆最后一个维度到 (num_heads, depth).\n",
    "            转置结果使得形状为 (batch_size, num_heads, seq_len, depth)\n",
    "        \"\"\"\n",
    "        x = tf.reshape(x, (batch_size, -1, self.num_heads, self.depth))\n",
    "        return tf.transpose(x, perm=[0,2,1,3])\n",
    "    \n",
    "    def call(self, v, k, q, mask):\n",
    "        batch_size = tf.shape(q)[0]\n",
    "        \n",
    "        q = self.wq(q) # (batch_size, seq_len, d_model)\n",
    "        k = self.wk(k) # (batch_size, seq_len, d_model)\n",
    "        v = self.wv(v) # (batch_size, seq_len, d_model)\n",
    "        \n",
    "        # 分拆成multihead\n",
    "        q = self.split_heads(q, batch_size) # (batch_size, num_heads, seq_len_q, depth)\n",
    "        k = self.split_heads(k, batch_size) # (batch_size, num_heads, seq_len_k, depth)\n",
    "        v = self.split_heads(v, batch_size) # (batch_size, num_heads, seq_len_v, depth)\n",
    "        \n",
    "        # scaled_attention.shape == (batch_size, num_heads, seq_len_q, depth)\n",
    "        # attention_weights.shape == (batch_size, num_heads, seq_len_q, seq_len_k)\n",
    "        scaled_attention, attention_weights = scaled_dot_prodcut_attention(\n",
    "            q, k, v, mask\n",
    "        )\n",
    "        \n",
    "        scaled_attention = tf.transpose(scaled_attention, perm=[0,2,1,3]) # (batch_size, seq_len_q, num_heads, depth)\n",
    "        \n",
    "        concat_attention = tf.reshape(scaled_attention,\n",
    "                                      (batch_size, -1, self.d_model)) # # (batch_size, seq_len_q, d_model)\n",
    "        \n",
    "        output = self.dense(concat_attention)\n",
    "        \n",
    "        return output, attention_weights"
   ]
  },
  {
   "cell_type": "markdown",
   "metadata": {},
   "source": [
    "创建一个 MultiHeadAttention 层进行尝试。在序列中的每个位置 y，MultiHeadAttention 在序列中的所有其他位置运行所有8个注意力头，在每个位置y，返回一个新的同样长度的向量。"
   ]
  },
  {
   "cell_type": "code",
   "execution_count": 29,
   "metadata": {},
   "outputs": [
    {
     "data": {
      "text/plain": [
       "(TensorShape([1, 60, 512]), TensorShape([1, 8, 60, 60]))"
      ]
     },
     "execution_count": 29,
     "metadata": {},
     "output_type": "execute_result"
    }
   ],
   "source": [
    "temp_mha = MultiHeadAttention(d_model=512, num_heads=8)\n",
    "y = tf.random.uniform((1, 60, 512)) # (batch_size, encoder_sequence, d_model)\n",
    "out, attn = temp_mha(y, k=y, q=y, mask=None)\n",
    "out.shape, attn.shape"
   ]
  },
  {
   "cell_type": "markdown",
   "metadata": {},
   "source": [
    "## 点式前馈网络（Point wise feed forward network）"
   ]
  },
  {
   "cell_type": "markdown",
   "metadata": {},
   "source": [
    "点式前馈网络由两层全联接层组成，两层之间有一个 ReLU 激活函数。"
   ]
  },
  {
   "cell_type": "code",
   "execution_count": 30,
   "metadata": {},
   "outputs": [],
   "source": [
    "def point_wise_feed_forward_network(d_model, dff):\n",
    "    return tf.keras.Sequential([\n",
    "        tf.keras.layers.Dense(dff, activation=\"relu\"), # (batch_size, seq_len, dff)\n",
    "        tf.keras.layers.Dense(d_model) # (batch_size, seq_len, d_model)\n",
    "    ])"
   ]
  },
  {
   "cell_type": "code",
   "execution_count": 31,
   "metadata": {},
   "outputs": [
    {
     "data": {
      "text/plain": [
       "TensorShape([64, 50, 512])"
      ]
     },
     "execution_count": 31,
     "metadata": {},
     "output_type": "execute_result"
    }
   ],
   "source": [
    "sample_ffn = point_wise_feed_forward_network(512, 2048)\n",
    "sample_ffn(tf.random.uniform((64,50,512))).shape"
   ]
  },
  {
   "cell_type": "markdown",
   "metadata": {},
   "source": [
    "## 编码与解码（Encoder and decoder）"
   ]
  },
  {
   "cell_type": "markdown",
   "metadata": {},
   "source": [
    "![Encoder_Decoder](https://tensorflow.google.cn/images/tutorials/transformer/transformer.png)"
   ]
  },
  {
   "cell_type": "markdown",
   "metadata": {},
   "source": [
    "Transformer 模型与标准的具有注意力机制的序列到序列模型（sequence to sequence with attention model），遵循相同的一般模式:\n",
    "+ 输入语句经过 N 个编码器层，为序列中的每个词/标记生成一个输出。\n",
    "+ 解码器关注编码器的输出以及它自身的输入（自注意力）来预测下一个词。"
   ]
  },
  {
   "cell_type": "markdown",
   "metadata": {},
   "source": [
    "### 编码器层（Encoder layer）"
   ]
  },
  {
   "cell_type": "markdown",
   "metadata": {},
   "source": [
    "每个编码器层包括以下子层：\n",
    "\n",
    "+ 多头注意力（有填充遮挡）\n",
    "+ 点式前馈网络（Point wise feed forward networks）。"
   ]
  },
  {
   "cell_type": "markdown",
   "metadata": {},
   "source": [
    "每个子层在其周围有一个残差连接，然后进行层归一化。残差连接有助于避免深度网络中的梯度消失问题。\n",
    "\n",
    "每个子层的输出是 LayerNorm(x + Sublayer(x))。归一化是在 d_model（最后一个）维度完成的。Transformer 中有 N 个编码器层。"
   ]
  },
  {
   "cell_type": "code",
   "execution_count": 32,
   "metadata": {},
   "outputs": [],
   "source": [
    "class EncoderLayer(tf.keras.layers.Layer):\n",
    "    def __init__(self, d_model, num_heads, dff, rate=0.1):\n",
    "        super(EncoderLayer, self).__init__()\n",
    "        \n",
    "        # 子层\n",
    "        self.mha = MultiHeadAttention(d_model, num_heads)\n",
    "        self.ffn = point_wise_feed_forward_network(d_model, dff)\n",
    "        # Layernorm\n",
    "        self.layernorm1 = tf.keras.layers.LayerNormalization(epsilon=1e-6)\n",
    "        self.layernorm2 = tf.keras.layers.LayerNormalization(epsilon=1e-6)\n",
    "        # Dropout\n",
    "        self.dropout1 = tf.keras.layers.Dropout(rate)\n",
    "        self.dropout2 = tf.keras.layers.Dropout(rate)\n",
    "    \n",
    "    def call(self, x, training, mask):\n",
    "        # MultiHeadAttention\n",
    "        attn_output, _ = self.mha(x, x, x, mask) # (batch_size, input_seq_len, d_model)\n",
    "        attn_output = self.dropout1(attn_output, training=training)\n",
    "        out1 = self.layernorm1(x + attn_output) # (batch_size, input_seq_len, d_model)\n",
    "        # Feedforward\n",
    "        ffn_output = self.ffn(out1) # (batch_size, input_seq_len, d_model)\n",
    "        ffn_output = self.dropout2(ffn_output, training=training)\n",
    "        out2 = self.layernorm2(out1 + ffn_output) # (batch_size, input_seq_len, d_model)\n",
    "        \n",
    "        return out2"
   ]
  },
  {
   "cell_type": "code",
   "execution_count": 33,
   "metadata": {},
   "outputs": [
    {
     "data": {
      "text/plain": [
       "TensorShape([64, 43, 512])"
      ]
     },
     "execution_count": 33,
     "metadata": {},
     "output_type": "execute_result"
    }
   ],
   "source": [
    "sample_encoder_layer = EncoderLayer(512, 8, 2048)\n",
    "\n",
    "sample_encoder_layer_output = sample_encoder_layer(\n",
    "    tf.random.uniform((64, 43, 512)), False, None\n",
    ")\n",
    "sample_encoder_layer_output.shape"
   ]
  },
  {
   "cell_type": "markdown",
   "metadata": {},
   "source": [
    "### 解码层"
   ]
  },
  {
   "cell_type": "markdown",
   "metadata": {},
   "source": [
    "每个解码器层包括以下子层：\n",
    "+ 遮挡的多头注意力（前瞻遮挡和填充遮挡）\n",
    "+ 多头注意力（用填充遮挡）。V（数值）和 K（主键）接收编码器输出作为输入。Q（请求）接收遮挡的多头注意力子层的输出。\n",
    "+ 点式前馈网络"
   ]
  },
  {
   "cell_type": "markdown",
   "metadata": {},
   "source": [
    "每个子层在其周围有一个残差连接，然后进行层归一化。每个子层的输出是 LayerNorm(x + Sublayer(x))。归一化是在 d_model（最后一个）维度完成的。\n",
    "Transformer 中共有 N 个解码器层。  \n",
    "当 Q 接收到解码器的第一个注意力块的输出，并且 K 接收到编码器的输出时，注意力权重表示根据编码器的输出赋予解码器输入的重要性。换一种说法，解码器通过查看编码器输出和对其自身输出的自注意力，预测下一个词。参看按比缩放的点积注意力部分的演示。"
   ]
  },
  {
   "cell_type": "code",
   "execution_count": 34,
   "metadata": {},
   "outputs": [],
   "source": [
    "class DecoderLayer(tf.keras.layers.Layer):\n",
    "    def __init__(self, d_model, num_heads, dff, rate=0.1):\n",
    "        super(DecoderLayer, self).__init__()\n",
    "        \n",
    "        # MultiheadAttention\n",
    "        self.mha1 = MultiHeadAttention(d_model, num_heads)\n",
    "        self.mha2 = MultiHeadAttention(d_model, num_heads)\n",
    "        \n",
    "        # FeedForward\n",
    "        self.ffn = point_wise_feed_forward_network(d_model, dff)\n",
    "        \n",
    "        # Layer Norm\n",
    "        self.layernorm1 = tf.keras.layers.LayerNormalization(epsilon=1e-6)\n",
    "        self.layernorm2 = tf.keras.layers.LayerNormalization(epsilon=1e-6)\n",
    "        self.layernorm3 = tf.keras.layers.LayerNormalization(epsilon=1e-6)\n",
    "        \n",
    "        # Dropout\n",
    "        self.dropout1 = tf.keras.layers.Dropout(rate)\n",
    "        self.dropout2 = tf.keras.layers.Dropout(rate)\n",
    "        self.dropout3 = tf.keras.layers.Dropout(rate)\n",
    "        \n",
    "    def call(self, x, enc_output, training, look_ahead_mask, padding_mask):\n",
    "        # enc_output.shape == (batch_size, input_seq_len, d_model)\n",
    "        \n",
    "        # look_ahead_mask预测时当前的词只与前面出现的有关，而出后面的无关\n",
    "        attn1, attn_weights_block1 = self.mha1(x, x, x, look_ahead_mask) # (batch_size, target_seq_len, d_model)\n",
    "        attn1 = self.dropout1(attn1, training=training)\n",
    "        out1 = self.layernorm1(attn1 + x)\n",
    "        \n",
    "        # MultiheadAttention, padding_mask: 填充遮挡\n",
    "        attn2, attn_weights_block2 = self.mha2(\n",
    "            enc_output, enc_output, out1, padding_mask # (batch_size, target_seq_len, d_model)\n",
    "        )\n",
    "        attn2 = self.dropout2(attn2, training=training)\n",
    "        out2 = self.layernorm2(attn2 + out1) # (batch_size, target_seq_len, d_model)\n",
    "        \n",
    "        # FeedForward\n",
    "        ffn_output = self.ffn(out2) # (batch_size, target_seq_len, d_model)\n",
    "        ffn_output = self.dropout3(ffn_output, training=training)\n",
    "        out3 = self.layernorm3(ffn_output + out2) # (batch_size, target_seq_len, d_model)\n",
    "        \n",
    "        return out3, attn_weights_block1, attn_weights_block2"
   ]
  },
  {
   "cell_type": "code",
   "execution_count": 35,
   "metadata": {},
   "outputs": [
    {
     "data": {
      "text/plain": [
       "TensorShape([64, 50, 512])"
      ]
     },
     "execution_count": 35,
     "metadata": {},
     "output_type": "execute_result"
    }
   ],
   "source": [
    "sample_decoder_layer = DecoderLayer(512, 8, 2048)\n",
    "\n",
    "sample_decoder_layer_output, _, _ = sample_decoder_layer(\n",
    "    tf.random.uniform((64, 50, 512)), sample_encoder_layer_output,\n",
    "    False, None, None\n",
    ")\n",
    "sample_decoder_layer_output.shape # (batch_size, target_seq_len, d_model)"
   ]
  },
  {
   "cell_type": "markdown",
   "metadata": {},
   "source": [
    "### 编码器（Encoder）"
   ]
  },
  {
   "cell_type": "markdown",
   "metadata": {},
   "source": [
    "编码器 包括：\n",
    "\n",
    "+ 输入嵌入（Input Embedding）\n",
    "+ 位置编码（Positional Encoding）\n",
    "+ N 个编码器层（encoder layers）"
   ]
  },
  {
   "cell_type": "markdown",
   "metadata": {},
   "source": [
    "输入经过嵌入（embedding）后，该嵌入与位置编码相加。该加法结果的输出是编码器层的输入。编码器的输出是解码器的输入。"
   ]
  },
  {
   "cell_type": "code",
   "execution_count": 36,
   "metadata": {},
   "outputs": [],
   "source": [
    "class Encoder(tf.keras.layers.Layer):\n",
    "    def __init__(self, num_layers, d_model, num_heads, dff, \n",
    "                 input_vocab_size, maximum_position_encoding, rate=0.1):\n",
    "        super(Encoder, self).__init__()\n",
    "        \n",
    "        self.d_model = d_model\n",
    "        self.num_layers = num_layers\n",
    "        \n",
    "        # Word_Embedding and Positinal Embedding\n",
    "        self.embedding = tf.keras.layers.Embedding(input_vocab_size, d_model)\n",
    "        self.pos_encoding = positional_encoding(maximum_position_encoding, self.d_model)\n",
    "        \n",
    "        \n",
    "        # 编码层\n",
    "        self.enc_layers = [EncoderLayer(d_model, num_heads, dff, rate)\n",
    "                          for _ in range(num_layers)]\n",
    "        \n",
    "        self.dropout = tf.keras.layers.Dropout(rate)\n",
    "        \n",
    "    def call(self, x, training, mask):\n",
    "        \n",
    "        seq_len = tf.shape(x)[1]\n",
    "        \n",
    "        # 将嵌入和位置编码相加\n",
    "        x = self.embedding(x) # (batch_size, input_seq_len, d_model)\n",
    "        x *= tf.math.sqrt(tf.cast(self.d_model, tf.float32))\n",
    "        x += self.pos_encoding[:, :seq_len, :]\n",
    "        \n",
    "        x = self.dropout(x, training=training)\n",
    "        \n",
    "        for i in range(self.num_layers):\n",
    "            x = self.enc_layers[i](x, training, mask)\n",
    "        \n",
    "        return x # (batch_size, input_seq_len, d_model)"
   ]
  },
  {
   "cell_type": "code",
   "execution_count": 37,
   "metadata": {},
   "outputs": [
    {
     "name": "stdout",
     "output_type": "stream",
     "text": [
      "(64, 62, 512)\n"
     ]
    }
   ],
   "source": [
    "sample_encoder = Encoder(num_layers=2, d_model=512, num_heads=8,\n",
    "                        dff=2048, input_vocab_size=8500, \n",
    "                        maximum_position_encoding=10000)\n",
    "\n",
    "sample_encoder_output = sample_encoder(tf.random.uniform((64, 62)),\n",
    "                                      training=False, mask=None)\n",
    "print (sample_encoder_output.shape)  # (batch_size, input_seq_len, d_model)"
   ]
  },
  {
   "cell_type": "markdown",
   "metadata": {},
   "source": [
    "### 解码器(Decoder)"
   ]
  },
  {
   "cell_type": "markdown",
   "metadata": {},
   "source": [
    "解码器包括：\n",
    "\n",
    "+ 输出嵌入（Output Embedding）\n",
    "+ 位置编码（Positional Encoding）\n",
    "+ N 个解码器层（decoder layers）"
   ]
  },
  {
   "cell_type": "markdown",
   "metadata": {},
   "source": [
    "目标（target）经过一个嵌入后，该嵌入和位置编码相加。该加法结果是解码器层的输入。解码器的输出是最后的线性层的输入。"
   ]
  },
  {
   "cell_type": "code",
   "execution_count": 38,
   "metadata": {},
   "outputs": [],
   "source": [
    "class Decoder(tf.keras.layers.Layer):\n",
    "    def __init__(self, num_layers, d_model, num_heads, dff, target_vocab_size,\n",
    "                maximum_position_encoding, rate=0.1):\n",
    "        super(Decoder, self).__init__()\n",
    "        \n",
    "        self.d_model = d_model\n",
    "        self.num_layers = num_layers\n",
    "        \n",
    "        # WordEmbedding and PostionalEmbedding\n",
    "        self.embedding = tf.keras.layers.Embedding(target_vocab_size, d_model)\n",
    "        self.pos_encoding = positional_encoding(maximum_position_encoding, d_model)\n",
    "        \n",
    "        # 解码层\n",
    "        self.dec_layers = [DecoderLayer(d_model, num_heads, dff, rate)\n",
    "                          for _ in range(num_layers)]\n",
    "        \n",
    "        # Dropout\n",
    "        self.dropout = tf.keras.layers.Dropout(rate)\n",
    "        \n",
    "    def call(self, x, enc_output, training,\n",
    "            look_ahead_mask, padding_mask):\n",
    "        \n",
    "        seq_len = tf.shape(x)[1]\n",
    "        attention_weights = {}\n",
    "        \n",
    "        # Embedding Layer\n",
    "        x = self.embedding(x) # (batch_size, target_seq_len, d_model)\n",
    "        x *= tf.math.sqrt(tf.cast(self.d_model, tf.float32))\n",
    "        x += self.pos_encoding[:, :seq_len, :]\n",
    "        \n",
    "        # Dropout\n",
    "        x = self.dropout(x, training=training)\n",
    "        \n",
    "        # Decoder Layers\n",
    "        for i in range(self.num_layers):\n",
    "            x, block1, block2 = self.dec_layers[i](x, enc_output, training,\n",
    "                                                  look_ahead_mask, padding_mask)\n",
    "\n",
    "            attention_weights[\"decoder_layer{}_block1\".format(i+1)] = block1\n",
    "            attention_weights[\"decoder_layer{}_block2\".format(i+1)] = block2\n",
    "\n",
    "        # x.shape == (batch_size, target_seq_len, d_model)\n",
    "        return x, attention_weights"
   ]
  },
  {
   "cell_type": "code",
   "execution_count": 39,
   "metadata": {},
   "outputs": [
    {
     "data": {
      "text/plain": [
       "(TensorShape([64, 26, 512]), TensorShape([64, 8, 26, 62]))"
      ]
     },
     "execution_count": 39,
     "metadata": {},
     "output_type": "execute_result"
    }
   ],
   "source": [
    "sample_decoder = Decoder(num_layers=2, d_model=512, num_heads=8, \n",
    "                         dff=2048, target_vocab_size=8000,\n",
    "                         maximum_position_encoding=5000)\n",
    "\n",
    "output, attn = sample_decoder(tf.random.uniform((64, 26)), \n",
    "                              enc_output=sample_encoder_output, \n",
    "                              training=False, look_ahead_mask=None, \n",
    "                              padding_mask=None)\n",
    "\n",
    "output.shape, attn[\"decoder_layer1_block2\"].shape"
   ]
  },
  {
   "cell_type": "markdown",
   "metadata": {},
   "source": [
    "## 创建 Transformer"
   ]
  },
  {
   "cell_type": "markdown",
   "metadata": {},
   "source": [
    "Transformer 包括编码器，解码器和最后的线性层。解码器的输出是线性层的输入，返回线性层的输出。"
   ]
  },
  {
   "cell_type": "code",
   "execution_count": 40,
   "metadata": {},
   "outputs": [],
   "source": [
    "class Transformer(tf.keras.Model):\n",
    "    def __init__(self, num_layers, d_model, num_heads, dff, input_vocab_size, \n",
    "               target_vocab_size, pe_input, pe_target, rate=0.1):\n",
    "        super(Transformer, self).__init__()\n",
    "        \n",
    "        # 编码器\n",
    "        self.encoder = Encoder(num_layers, d_model, num_heads, dff, \n",
    "                           input_vocab_size, pe_input, rate)\n",
    "        # 解码器\n",
    "        self.decoder = Decoder(num_layers, d_model, num_heads, dff, \n",
    "                           target_vocab_size, pe_target, rate)\n",
    "        # final 线性层\n",
    "        self.final_layer = tf.keras.layers.Dense(target_vocab_size)\n",
    "\n",
    "    def call(self, inp, tar, training, enc_padding_mask, \n",
    "           look_ahead_mask, dec_padding_mask):\n",
    "        \n",
    "        # 编码器输出作为解码器输入\n",
    "        enc_output = self.encoder(inp, training, enc_padding_mask)  # (batch_size, inp_seq_len, d_model)\n",
    "        \n",
    "        # 解码器输出\n",
    "        # dec_output.shape == (batch_size, tar_seq_len, d_model)\n",
    "        dec_output, attention_weights = self.decoder(\n",
    "            tar, enc_output, training, look_ahead_mask, dec_padding_mask)\n",
    "        \n",
    "        # 线性层输出\n",
    "        final_output = self.final_layer(dec_output)  # (batch_size, tar_seq_len, target_vocab_size)\n",
    "\n",
    "        return final_output, attention_weights"
   ]
  },
  {
   "cell_type": "code",
   "execution_count": 41,
   "metadata": {},
   "outputs": [
    {
     "data": {
      "text/plain": [
       "TensorShape([64, 26, 8000])"
      ]
     },
     "execution_count": 41,
     "metadata": {},
     "output_type": "execute_result"
    }
   ],
   "source": [
    "sample_transformer = Transformer(\n",
    "    num_layers=2, d_model=512, num_heads=8, dff=2048, \n",
    "    input_vocab_size=8500, target_vocab_size=8000, \n",
    "    pe_input=10000, pe_target=6000)\n",
    "\n",
    "temp_input = tf.random.uniform((64, 62))\n",
    "temp_target = tf.random.uniform((64, 26))\n",
    "\n",
    "fn_out, _ = sample_transformer(temp_input, temp_target, training=False, \n",
    "                               enc_padding_mask=None, \n",
    "                               look_ahead_mask=None,\n",
    "                               dec_padding_mask=None)\n",
    "\n",
    "fn_out.shape  # (batch_size, tar_seq_len, target_vocab_size)"
   ]
  },
  {
   "cell_type": "markdown",
   "metadata": {},
   "source": [
    "## 配置超参数（hyperparameters）"
   ]
  },
  {
   "cell_type": "markdown",
   "metadata": {},
   "source": [
    "为了让本示例小且相对较快，已经减小了num_layers、 d_model 和 dff 的值。\n",
    "\n",
    "Transformer 的基础模型使用的数值为：num_layers=6，d_model = 512，dff = 2048。"
   ]
  },
  {
   "cell_type": "code",
   "execution_count": 42,
   "metadata": {},
   "outputs": [],
   "source": [
    "num_layers = 4\n",
    "d_model = 128\n",
    "dff = 512\n",
    "num_heads = 8\n",
    "\n",
    "input_vocab_size = tokenizer_pt.vocab_size + 2\n",
    "target_vocab_size = tokenizer_en.vocab_size + 2\n",
    "dropout_rate = 0.1"
   ]
  },
  {
   "cell_type": "markdown",
   "metadata": {},
   "source": [
    "## 优化器（Optimizer）"
   ]
  },
  {
   "cell_type": "markdown",
   "metadata": {},
   "source": [
    "根据论文中的公式，将 Adam 优化器与自定义的学习速率调度程序（scheduler）配合使用"
   ]
  },
  {
   "cell_type": "markdown",
   "metadata": {},
   "source": [
    "$$ lrate = d_{model}^{-0.5} * min(step\\_num^{-0.5}, step_num * warmup\\_steps^{-1.5}) $$"
   ]
  },
  {
   "cell_type": "code",
   "execution_count": 43,
   "metadata": {},
   "outputs": [],
   "source": [
    "class CustomSchedule(tf.keras.optimizers.schedules.LearningRateSchedule):\n",
    "    def __init__(self, d_model, warmup_steps=4000):\n",
    "        super(CustomSchedule, self).__init__()\n",
    "    \n",
    "        self.d_model = d_model\n",
    "        self.d_model = tf.cast(self.d_model, tf.float32)\n",
    "\n",
    "        self.warmup_steps = warmup_steps\n",
    "    \n",
    "    def __call__(self, step):\n",
    "        arg1 = tf.math.rsqrt(step)\n",
    "        arg2 = step * (self.warmup_steps ** -1.5)\n",
    "    \n",
    "        return tf.math.rsqrt(self.d_model) * tf.math.minimum(arg1, arg2)"
   ]
  },
  {
   "cell_type": "code",
   "execution_count": 44,
   "metadata": {},
   "outputs": [],
   "source": [
    "learning_rate = CustomSchedule(d_model)\n",
    "\n",
    "optimizer = tf.keras.optimizers.Adam(learning_rate, beta_1=0.8, beta_2=0.98,\n",
    "                                    epsilon=1e-9)"
   ]
  },
  {
   "cell_type": "code",
   "execution_count": 45,
   "metadata": {},
   "outputs": [
    {
     "data": {
      "text/plain": [
       "Text(0, 0.5, 'Train Step')"
      ]
     },
     "execution_count": 45,
     "metadata": {},
     "output_type": "execute_result"
    },
    {
     "data": {
      "image/png": "[encoded data removed]",
      "text/plain": [
       "<Figure size 432x288 with 1 Axes>"
      ]
     },
     "metadata": {
      "needs_background": "light"
     },
     "output_type": "display_data"
    }
   ],
   "source": [
    "temp_learning_rate_schedule = CustomSchedule(d_model)\n",
    "\n",
    "plt.plot(temp_learning_rate_schedule(tf.range(40000, dtype=tf.float32)))\n",
    "plt.xlabel(\"Learning Rate\")\n",
    "plt.ylabel(\"Train Step\")"
   ]
  },
  {
   "cell_type": "markdown",
   "metadata": {},
   "source": [
    "## 损失函数与指标（Loss and metrics）"
   ]
  },
  {
   "cell_type": "markdown",
   "metadata": {},
   "source": [
    "由于目标序列是填充（padded）过的，因此在计算损失函数时，应用填充遮挡非常重要。"
   ]
  },
  {
   "cell_type": "code",
   "execution_count": 46,
   "metadata": {},
   "outputs": [],
   "source": [
    "loss_object = tf.keras.losses.SparseCategoricalCrossentropy(\n",
    "from_logits=True, reduction=\"none\")"
   ]
  },
  {
   "cell_type": "code",
   "execution_count": 47,
   "metadata": {},
   "outputs": [],
   "source": [
    "def loss_function(real, pred):\n",
    "    mask = tf.math.logical_not(tf.math.equal(real, 0))\n",
    "    loss_ = loss_object(real, pred)\n",
    "    \n",
    "    mask = tf.cast(mask, dtype=loss_.dtype)\n",
    "    loss_ * mask\n",
    "    \n",
    "    return tf.reduce_mean(loss_)"
   ]
  },
  {
   "cell_type": "code",
   "execution_count": 48,
   "metadata": {},
   "outputs": [],
   "source": [
    "train_loss = tf.keras.metrics.Mean(name=\"train_loss\")\n",
    "train_accuracy = tf.keras.metrics.SparseCategoricalAccuracy(name=\"train_accuracy\")"
   ]
  },
  {
   "cell_type": "markdown",
   "metadata": {},
   "source": [
    "## 训练与检查点（Training and checkpointing）"
   ]
  },
  {
   "cell_type": "code",
   "execution_count": 49,
   "metadata": {},
   "outputs": [],
   "source": [
    "transformer = Transformer(num_layers, d_model, num_heads, dff,\n",
    "                          input_vocab_size, target_vocab_size, \n",
    "                          pe_input=input_vocab_size, \n",
    "                          pe_target=target_vocab_size,\n",
    "                          rate=dropout_rate)"
   ]
  },
  {
   "cell_type": "code",
   "execution_count": 50,
   "metadata": {},
   "outputs": [],
   "source": [
    "def create_masks(inp, tar):\n",
    "    # 编码器填充遮挡\n",
    "    enc_padding_mask = create_padding_mask(inp)\n",
    "\n",
    "    # 在解码器的第二个注意力模块使用。\n",
    "    # 该填充遮挡用于遮挡编码器的输出。\n",
    "    dec_padding_mask = create_padding_mask(inp)\n",
    "\n",
    "    # 在解码器的第一个注意力模块使用。\n",
    "    # 用于填充（pad）和遮挡（mask）解码器获取到的输入的后续标记（future tokens）。\n",
    "    look_ahead_mask = create_look_ahead_mask(tf.shape(tar)[1])\n",
    "    dec_target_padding_mask = create_padding_mask(tar)\n",
    "    combined_mask = tf.maximum(dec_target_padding_mask, look_ahead_mask)\n",
    "\n",
    "    return enc_padding_mask, combined_mask, dec_padding_mask"
   ]
  },
  {
   "cell_type": "markdown",
   "metadata": {},
   "source": [
    "创建检查点的路径和检查点管理器（manager）。这将用于在每 n 个周期（epochs）保存检查点。"
   ]
  },
  {
   "cell_type": "code",
   "execution_count": 51,
   "metadata": {},
   "outputs": [],
   "source": [
    "checkpoint_path = \"./checkpoints/train\"\n",
    "\n",
    "ckpt = tf.train.Checkpoint(transformer=transformer,\n",
    "                           optimizer=optimizer)\n",
    "\n",
    "ckpt_manager = tf.train.CheckpointManager(ckpt, checkpoint_path, max_to_keep=5)\n",
    "\n",
    "# 如果检查点存在，则恢复最新的检查点。\n",
    "if ckpt_manager.latest_checkpoint:\n",
    "    ckpt.restore(ckpt_manager.latest_checkpoint)\n",
    "    print ('Latest checkpoint restored!!')"
   ]
  },
  {
   "cell_type": "markdown",
   "metadata": {},
   "source": [
    "目标（target）被分成了 tar_inp 和 tar_real。tar_inp 作为输入传递到解码器。tar_real 是位移了 1 的同一个输入：在 tar_inp 中的每个位置，tar_real 包含了应该被预测到的下一个标记（token）。\n",
    "\n",
    "例如，sentence = \"SOS A lion in the jungle is sleeping EOS\"\n",
    "\n",
    "tar_inp = \"SOS A lion in the jungle is sleeping\"\n",
    "\n",
    "tar_real = \"A lion in the jungle is sleeping EOS\"\n",
    "\n",
    "Transformer 是一个自回归（auto-regressive）模型：它一次作一个部分的预测，然后使用到目前为止的自身的输出来决定下一步要做什么。\n",
    "\n",
    "在训练过程中，本示例使用了 teacher-forcing 的方法（就像文本生成教程中一样）。无论模型在当前时间步骤下预测出什么，teacher-forcing 方法都会将真实的输出传递到下一个时间步骤上。\n",
    "\n",
    "当 transformer 预测每个词时，自注意力（self-attention）功能使它能够查看输入序列中前面的单词，从而更好地预测下一个单词。 \n",
    "\n",
    "为了防止模型在期望的输出上达到峰值，模型使用了前瞻遮挡（look-ahead mask）。"
   ]
  },
  {
   "cell_type": "code",
   "execution_count": 52,
   "metadata": {},
   "outputs": [],
   "source": [
    "EPOCHS = 20"
   ]
  },
  {
   "cell_type": "code",
   "execution_count": 53,
   "metadata": {},
   "outputs": [],
   "source": [
    "# 该 @tf.function 将追踪-编译 train_step 到 TF 图中，以便更快地\n",
    "# 执行。该函数专用于参数张量的精确形状。为了避免由于可变序列长度或可变\n",
    "# 批次大小（最后一批次较小）导致的再追踪，使用 input_signature 指定\n",
    "# 更多的通用形状。\n",
    "\n",
    "train_step_signature = [\n",
    "    tf.TensorSpec(shape=(None, None), dtype=tf.int64),\n",
    "    tf.TensorSpec(shape=(None, None), dtype=tf.int64),\n",
    "]\n",
    "\n",
    "@tf.function(input_signature=train_step_signature)\n",
    "def train_step(inp, tar):\n",
    "    tar_inp = tar[:, :-1]\n",
    "    tar_real = tar[:, 1:]\n",
    "\n",
    "    enc_padding_mask, combined_mask, dec_padding_mask = create_masks(inp, tar_inp)\n",
    "    \n",
    "    with tf.GradientTape() as tape:\n",
    "        predictions, _ = transformer(inp, tar_inp, \n",
    "                                 True, \n",
    "                                 enc_padding_mask, \n",
    "                                 combined_mask, \n",
    "                                 dec_padding_mask)\n",
    "        loss = loss_function(tar_real, predictions)\n",
    "\n",
    "    gradients = tape.gradient(loss, transformer.trainable_variables)    \n",
    "    optimizer.apply_gradients(zip(gradients, transformer.trainable_variables))\n",
    "\n",
    "    train_loss(loss)\n",
    "    train_accuracy(tar_real, predictions)"
   ]
  },
  {
   "cell_type": "markdown",
   "metadata": {},
   "source": [
    "葡萄牙语作为输入语言，英语为目标语言。"
   ]
  },
  {
   "cell_type": "code",
   "execution_count": 54,
   "metadata": {},
   "outputs": [
    {
     "name": "stdout",
     "output_type": "stream",
     "text": [
      "Epoch 1 Batch 0 Loss 9.0734 Accuracy 0.0000\n",
      "Epoch 1 Batch 50 Loss 8.8985 Accuracy 0.0409\n",
      "Epoch 1 Batch 100 Loss 8.5705 Accuracy 0.2807\n",
      "Epoch 1 Batch 150 Loss 8.2698 Accuracy 0.3644\n",
      "Epoch 1 Batch 200 Loss 7.9949 Accuracy 0.4046\n",
      "Epoch 1 Batch 250 Loss 7.7061 Accuracy 0.4298\n",
      "Epoch 1 Batch 300 Loss 7.3980 Accuracy 0.4458\n",
      "Epoch 1 Batch 350 Loss 7.0719 Accuracy 0.4573\n",
      "Epoch 1 Batch 400 Loss 6.7470 Accuracy 0.4652\n",
      "Epoch 1 Batch 450 Loss 6.4342 Accuracy 0.4728\n",
      "Epoch 1 Batch 500 Loss 6.1516 Accuracy 0.4782\n",
      "Epoch 1 Batch 550 Loss 5.9008 Accuracy 0.4830\n",
      "Epoch 1 Batch 600 Loss 5.6870 Accuracy 0.4873\n",
      "Epoch 1 Batch 650 Loss 5.4976 Accuracy 0.4925\n",
      "Epoch 1 Batch 700 Loss 5.3332 Accuracy 0.4965\n",
      "Epoch 1 Loss 5.3271 Accuracy 0.4966\n",
      "Time taken for 1 epoch: 147.93480587005615 secs\n",
      "\n",
      "Epoch 2 Batch 0 Loss 3.2334 Accuracy 0.5252\n",
      "Epoch 2 Batch 50 Loss 3.0823 Accuracy 0.5588\n",
      "Epoch 2 Batch 100 Loss 3.1335 Accuracy 0.5599\n",
      "Epoch 2 Batch 150 Loss 3.1331 Accuracy 0.5615\n",
      "Epoch 2 Batch 200 Loss 3.2138 Accuracy 0.5565\n",
      "Epoch 2 Batch 250 Loss 3.2468 Accuracy 0.5524\n",
      "Epoch 2 Batch 300 Loss 3.2782 Accuracy 0.5480\n",
      "Epoch 2 Batch 350 Loss 3.3038 Accuracy 0.5447\n",
      "Epoch 2 Batch 400 Loss 3.3083 Accuracy 0.5442\n",
      "Epoch 2 Batch 450 Loss 3.3143 Accuracy 0.5434\n",
      "Epoch 2 Batch 500 Loss 3.3192 Accuracy 0.5426\n",
      "Epoch 2 Batch 550 Loss 3.3158 Accuracy 0.5427\n",
      "Epoch 2 Batch 600 Loss 3.3295 Accuracy 0.5415\n",
      "Epoch 2 Batch 650 Loss 3.3275 Accuracy 0.5416\n",
      "Epoch 2 Batch 700 Loss 3.3273 Accuracy 0.5414\n",
      "Epoch 2 Loss 3.3274 Accuracy 0.5413\n",
      "Time taken for 1 epoch: 118.45687699317932 secs\n",
      "\n",
      "Epoch 3 Batch 0 Loss 3.4078 Accuracy 0.5401\n",
      "Epoch 3 Batch 50 Loss 3.2598 Accuracy 0.5490\n",
      "Epoch 3 Batch 100 Loss 3.3009 Accuracy 0.5425\n",
      "Epoch 3 Batch 150 Loss 3.3082 Accuracy 0.5418\n",
      "Epoch 3 Batch 200 Loss 3.3080 Accuracy 0.5414\n",
      "Epoch 3 Batch 250 Loss 3.3213 Accuracy 0.5399\n",
      "Epoch 3 Batch 300 Loss 3.3112 Accuracy 0.5407\n",
      "Epoch 3 Batch 350 Loss 3.3196 Accuracy 0.5398\n",
      "Epoch 3 Batch 400 Loss 3.3251 Accuracy 0.5393\n",
      "Epoch 3 Batch 450 Loss 3.3247 Accuracy 0.5395\n",
      "Epoch 3 Batch 500 Loss 3.3253 Accuracy 0.5391\n",
      "Epoch 3 Batch 550 Loss 3.3192 Accuracy 0.5400\n",
      "Epoch 3 Batch 600 Loss 3.3165 Accuracy 0.5401\n",
      "Epoch 3 Batch 650 Loss 3.3437 Accuracy 0.5397\n",
      "Epoch 3 Batch 700 Loss 3.3537 Accuracy 0.5395\n",
      "Epoch 3 Loss 3.3538 Accuracy 0.5395\n",
      "Time taken for 1 epoch: 118.20843482017517 secs\n",
      "\n",
      "Epoch 4 Batch 0 Loss 3.8091 Accuracy 0.4859\n",
      "Epoch 4 Batch 50 Loss 3.4581 Accuracy 0.5365\n",
      "Epoch 4 Batch 100 Loss 3.4475 Accuracy 0.5385\n",
      "Epoch 4 Batch 150 Loss 3.4688 Accuracy 0.5360\n",
      "Epoch 4 Batch 200 Loss 3.4860 Accuracy 0.5349\n",
      "Epoch 4 Batch 250 Loss 3.4812 Accuracy 0.5355\n",
      "Epoch 4 Batch 300 Loss 3.4895 Accuracy 0.5343\n",
      "Epoch 4 Batch 350 Loss 3.4829 Accuracy 0.5338\n",
      "Epoch 4 Batch 400 Loss 3.4801 Accuracy 0.5334\n",
      "Epoch 4 Batch 450 Loss 3.4666 Accuracy 0.5345\n",
      "Epoch 4 Batch 500 Loss 3.4564 Accuracy 0.5347\n",
      "Epoch 4 Batch 550 Loss 3.4388 Accuracy 0.5357\n",
      "Epoch 4 Batch 600 Loss 3.4389 Accuracy 0.5354\n",
      "Epoch 4 Batch 650 Loss 3.4297 Accuracy 0.5356\n",
      "Epoch 4 Batch 700 Loss 3.4230 Accuracy 0.5358\n",
      "Epoch 4 Loss 3.4232 Accuracy 0.5358\n",
      "Time taken for 1 epoch: 118.73977589607239 secs\n",
      "\n",
      "Epoch 5 Batch 0 Loss 3.5488 Accuracy 0.5058\n",
      "Epoch 5 Batch 50 Loss 3.3342 Accuracy 0.5387\n",
      "Epoch 5 Batch 100 Loss 3.3147 Accuracy 0.5388\n",
      "Epoch 5 Batch 150 Loss 3.3251 Accuracy 0.5375\n",
      "Epoch 5 Batch 200 Loss 3.3038 Accuracy 0.5395\n",
      "Epoch 5 Batch 250 Loss 3.2942 Accuracy 0.5408\n",
      "Epoch 5 Batch 300 Loss 3.2982 Accuracy 0.5404\n",
      "Epoch 5 Batch 350 Loss 3.3019 Accuracy 0.5398\n",
      "Epoch 5 Batch 400 Loss 3.3044 Accuracy 0.5399\n",
      "Epoch 5 Batch 450 Loss 3.3101 Accuracy 0.5395\n",
      "Epoch 5 Batch 500 Loss 3.3124 Accuracy 0.5391\n",
      "Epoch 5 Batch 550 Loss 3.3074 Accuracy 0.5395\n",
      "Epoch 5 Batch 600 Loss 3.3141 Accuracy 0.5393\n",
      "Epoch 5 Batch 650 Loss 3.3148 Accuracy 0.5388\n",
      "Epoch 5 Batch 700 Loss 3.3108 Accuracy 0.5389\n",
      "Saving checkpoint for epoch 5 at ./checkpoints/train\\ckpt-1\n",
      "Epoch 5 Loss 3.3119 Accuracy 0.5388\n",
      "Time taken for 1 epoch: 119.45859217643738 secs\n",
      "\n",
      "Epoch 6 Batch 0 Loss 3.1598 Accuracy 0.5477\n",
      "Epoch 6 Batch 50 Loss 3.2327 Accuracy 0.5470\n",
      "Epoch 6 Batch 100 Loss 3.2476 Accuracy 0.5440\n",
      "Epoch 6 Batch 150 Loss 3.2448 Accuracy 0.5438\n",
      "Epoch 6 Batch 200 Loss 3.2410 Accuracy 0.5440\n",
      "Epoch 6 Batch 250 Loss 3.2420 Accuracy 0.5443\n",
      "Epoch 6 Batch 300 Loss 3.2591 Accuracy 0.5422\n",
      "Epoch 6 Batch 350 Loss 3.2768 Accuracy 0.5409\n",
      "Epoch 6 Batch 400 Loss 3.2767 Accuracy 0.5410\n",
      "Epoch 6 Batch 450 Loss 3.2834 Accuracy 0.5406\n",
      "Epoch 6 Batch 500 Loss 3.2845 Accuracy 0.5406\n",
      "Epoch 6 Batch 550 Loss 3.2831 Accuracy 0.5404\n",
      "Epoch 6 Batch 600 Loss 3.2814 Accuracy 0.5405\n",
      "Epoch 6 Batch 650 Loss 3.2786 Accuracy 0.5408\n",
      "Epoch 6 Batch 700 Loss 3.2816 Accuracy 0.5404\n",
      "Epoch 6 Loss 3.2820 Accuracy 0.5403\n",
      "Time taken for 1 epoch: 118.03529953956604 secs\n",
      "\n",
      "Epoch 7 Batch 0 Loss 3.7513 Accuracy 0.4754\n",
      "Epoch 7 Batch 50 Loss 3.2428 Accuracy 0.5441\n",
      "Epoch 7 Batch 100 Loss 3.2407 Accuracy 0.5437\n",
      "Epoch 7 Batch 150 Loss 3.2320 Accuracy 0.5445\n",
      "Epoch 7 Batch 200 Loss 3.2555 Accuracy 0.5413\n",
      "Epoch 7 Batch 250 Loss 3.2888 Accuracy 0.5399\n",
      "Epoch 7 Batch 300 Loss 3.3097 Accuracy 0.5396\n",
      "Epoch 7 Batch 350 Loss 3.3084 Accuracy 0.5402\n",
      "Epoch 7 Batch 400 Loss 3.3191 Accuracy 0.5393\n",
      "Epoch 7 Batch 450 Loss 3.2956 Accuracy 0.5410\n",
      "Epoch 7 Batch 500 Loss 3.2770 Accuracy 0.5427\n",
      "Epoch 7 Batch 550 Loss 3.2542 Accuracy 0.5451\n",
      "Epoch 7 Batch 600 Loss 3.2291 Accuracy 0.5483\n",
      "Epoch 7 Batch 650 Loss 3.2050 Accuracy 0.5518\n",
      "Epoch 7 Batch 700 Loss 3.1894 Accuracy 0.5541\n",
      "Epoch 7 Loss 3.1889 Accuracy 0.5541\n",
      "Time taken for 1 epoch: 118.11517262458801 secs\n",
      "\n",
      "Epoch 8 Batch 0 Loss 2.9444 Accuracy 0.5857\n",
      "Epoch 8 Batch 50 Loss 2.9335 Accuracy 0.5873\n",
      "Epoch 8 Batch 100 Loss 2.9069 Accuracy 0.5911\n",
      "Epoch 8 Batch 150 Loss 2.8821 Accuracy 0.5945\n",
      "Epoch 8 Batch 200 Loss 2.8781 Accuracy 0.5945\n",
      "Epoch 8 Batch 250 Loss 2.8668 Accuracy 0.5959\n",
      "Epoch 8 Batch 300 Loss 2.8671 Accuracy 0.5957\n",
      "Epoch 8 Batch 350 Loss 2.8598 Accuracy 0.5965\n",
      "Epoch 8 Batch 400 Loss 2.8574 Accuracy 0.5966\n",
      "Epoch 8 Batch 450 Loss 2.8505 Accuracy 0.5971\n",
      "Epoch 8 Batch 500 Loss 2.8463 Accuracy 0.5973\n",
      "Epoch 8 Batch 550 Loss 2.8449 Accuracy 0.5971\n",
      "Epoch 8 Batch 600 Loss 2.8430 Accuracy 0.5972\n",
      "Epoch 8 Batch 650 Loss 2.8398 Accuracy 0.5975\n",
      "Epoch 8 Batch 700 Loss 2.8373 Accuracy 0.5976\n",
      "Epoch 8 Loss 2.8366 Accuracy 0.5976\n",
      "Time taken for 1 epoch: 118.02369165420532 secs\n",
      "\n",
      "Epoch 9 Batch 0 Loss 2.5331 Accuracy 0.6342\n",
      "Epoch 9 Batch 50 Loss 2.7471 Accuracy 0.6065\n",
      "Epoch 9 Batch 100 Loss 2.7621 Accuracy 0.6033\n",
      "Epoch 9 Batch 150 Loss 2.7838 Accuracy 0.6008\n",
      "Epoch 9 Batch 200 Loss 2.7767 Accuracy 0.6010\n",
      "Epoch 9 Batch 250 Loss 2.7831 Accuracy 0.6006\n",
      "Epoch 9 Batch 300 Loss 2.7880 Accuracy 0.6004\n",
      "Epoch 9 Batch 350 Loss 2.7829 Accuracy 0.6008\n",
      "Epoch 9 Batch 400 Loss 2.7787 Accuracy 0.6011\n",
      "Epoch 9 Batch 450 Loss 2.7779 Accuracy 0.6015\n",
      "Epoch 9 Batch 500 Loss 2.7799 Accuracy 0.6012\n",
      "Epoch 9 Batch 550 Loss 2.7783 Accuracy 0.6015\n",
      "Epoch 9 Batch 600 Loss 2.7780 Accuracy 0.6016\n",
      "Epoch 9 Batch 650 Loss 2.7873 Accuracy 0.6007\n",
      "Epoch 9 Batch 700 Loss 2.7950 Accuracy 0.5999\n",
      "Epoch 9 Loss 2.7958 Accuracy 0.5998\n",
      "Time taken for 1 epoch: 118.13956642150879 secs\n",
      "\n",
      "Epoch 10 Batch 0 Loss 3.2967 Accuracy 0.5361\n",
      "Epoch 10 Batch 50 Loss 3.1076 Accuracy 0.5727\n",
      "Epoch 10 Batch 100 Loss 3.2904 Accuracy 0.5526\n",
      "Epoch 10 Batch 150 Loss 3.2960 Accuracy 0.5492\n",
      "Epoch 10 Batch 200 Loss 3.3207 Accuracy 0.5450\n",
      "Epoch 10 Batch 250 Loss 3.3156 Accuracy 0.5443\n",
      "Epoch 10 Batch 300 Loss 3.3057 Accuracy 0.5448\n",
      "Epoch 10 Batch 350 Loss 3.2986 Accuracy 0.5451\n",
      "Epoch 10 Batch 400 Loss 3.3024 Accuracy 0.5438\n",
      "Epoch 10 Batch 450 Loss 3.2973 Accuracy 0.5439\n",
      "Epoch 10 Batch 500 Loss 3.2909 Accuracy 0.5439\n",
      "Epoch 10 Batch 550 Loss 3.2910 Accuracy 0.5435\n",
      "Epoch 10 Batch 600 Loss 3.2916 Accuracy 0.5431\n",
      "Epoch 10 Batch 650 Loss 3.2878 Accuracy 0.5433\n",
      "Epoch 10 Batch 700 Loss 3.2859 Accuracy 0.5432\n",
      "Saving checkpoint for epoch 10 at ./checkpoints/train\\ckpt-2\n",
      "Epoch 10 Loss 3.2854 Accuracy 0.5432\n",
      "Time taken for 1 epoch: 119.7583417892456 secs\n",
      "\n",
      "Epoch 11 Batch 0 Loss 3.3251 Accuracy 0.5452\n",
      "Epoch 11 Batch 50 Loss 3.1832 Accuracy 0.5494\n",
      "Epoch 11 Batch 100 Loss 3.2121 Accuracy 0.5462\n",
      "Epoch 11 Batch 150 Loss 3.2125 Accuracy 0.5454\n",
      "Epoch 11 Batch 200 Loss 3.1992 Accuracy 0.5470\n",
      "Epoch 11 Batch 250 Loss 3.2006 Accuracy 0.5471\n",
      "Epoch 11 Batch 300 Loss 3.2138 Accuracy 0.5464\n",
      "Epoch 11 Batch 350 Loss 3.2259 Accuracy 0.5454\n"
     ]
    },
    {
     "name": "stdout",
     "output_type": "stream",
     "text": [
      "Epoch 11 Batch 400 Loss 3.2324 Accuracy 0.5448\n",
      "Epoch 11 Batch 450 Loss 3.2418 Accuracy 0.5447\n",
      "Epoch 11 Batch 500 Loss 3.2652 Accuracy 0.5441\n",
      "Epoch 11 Batch 550 Loss 3.2841 Accuracy 0.5434\n",
      "Epoch 11 Batch 600 Loss 3.2916 Accuracy 0.5426\n",
      "Epoch 11 Batch 650 Loss 3.2924 Accuracy 0.5425\n",
      "Epoch 11 Batch 700 Loss 3.3112 Accuracy 0.5422\n",
      "Epoch 11 Loss 3.3121 Accuracy 0.5422\n",
      "Time taken for 1 epoch: 118.23062705993652 secs\n",
      "\n",
      "Epoch 12 Batch 0 Loss 3.7672 Accuracy 0.5165\n",
      "Epoch 12 Batch 50 Loss 3.6473 Accuracy 0.5310\n",
      "Epoch 12 Batch 100 Loss 3.6249 Accuracy 0.5344\n",
      "Epoch 12 Batch 150 Loss 3.6258 Accuracy 0.5336\n",
      "Epoch 12 Batch 200 Loss 3.6265 Accuracy 0.5313\n",
      "Epoch 12 Batch 250 Loss 3.6555 Accuracy 0.5308\n",
      "Epoch 12 Batch 300 Loss 3.6659 Accuracy 0.5311\n",
      "Epoch 12 Batch 350 Loss 3.6730 Accuracy 0.5314\n",
      "Epoch 12 Batch 400 Loss 3.6842 Accuracy 0.5299\n",
      "Epoch 12 Batch 450 Loss 3.6846 Accuracy 0.5291\n",
      "Epoch 12 Batch 500 Loss 3.6742 Accuracy 0.5295\n",
      "Epoch 12 Batch 550 Loss 3.6668 Accuracy 0.5296\n",
      "Epoch 12 Batch 600 Loss 3.6594 Accuracy 0.5300\n",
      "Epoch 12 Batch 650 Loss 3.6523 Accuracy 0.5303\n",
      "Epoch 12 Batch 700 Loss 3.6465 Accuracy 0.5304\n",
      "Epoch 12 Loss 3.6472 Accuracy 0.5303\n",
      "Time taken for 1 epoch: 118.11153244972229 secs\n",
      "\n",
      "Epoch 13 Batch 0 Loss 3.3857 Accuracy 0.5489\n",
      "Epoch 13 Batch 50 Loss 3.5984 Accuracy 0.5290\n",
      "Epoch 13 Batch 100 Loss 3.5733 Accuracy 0.5311\n",
      "Epoch 13 Batch 150 Loss 3.5535 Accuracy 0.5337\n",
      "Epoch 13 Batch 200 Loss 3.5511 Accuracy 0.5333\n",
      "Epoch 13 Batch 250 Loss 3.5384 Accuracy 0.5335\n",
      "Epoch 13 Batch 300 Loss 3.5196 Accuracy 0.5349\n",
      "Epoch 13 Batch 350 Loss 3.5021 Accuracy 0.5354\n",
      "Epoch 13 Batch 400 Loss 3.4879 Accuracy 0.5353\n",
      "Epoch 13 Batch 450 Loss 3.4746 Accuracy 0.5353\n",
      "Epoch 13 Batch 500 Loss 3.4603 Accuracy 0.5352\n",
      "Epoch 13 Batch 550 Loss 3.4426 Accuracy 0.5359\n",
      "Epoch 13 Batch 600 Loss 3.4259 Accuracy 0.5369\n",
      "Epoch 13 Batch 650 Loss 3.4188 Accuracy 0.5368\n",
      "Epoch 13 Batch 700 Loss 3.4064 Accuracy 0.5375\n",
      "Epoch 13 Loss 3.4060 Accuracy 0.5376\n",
      "Time taken for 1 epoch: 118.11981749534607 secs\n",
      "\n",
      "Epoch 14 Batch 0 Loss 3.7489 Accuracy 0.4804\n",
      "Epoch 14 Batch 50 Loss 3.2561 Accuracy 0.5440\n",
      "Epoch 14 Batch 100 Loss 3.2585 Accuracy 0.5426\n",
      "Epoch 14 Batch 150 Loss 3.2640 Accuracy 0.5419\n",
      "Epoch 14 Batch 200 Loss 3.2552 Accuracy 0.5431\n",
      "Epoch 14 Batch 250 Loss 3.2480 Accuracy 0.5440\n",
      "Epoch 14 Batch 300 Loss 3.2532 Accuracy 0.5436\n",
      "Epoch 14 Batch 350 Loss 3.2535 Accuracy 0.5438\n",
      "Epoch 14 Batch 400 Loss 3.2328 Accuracy 0.5451\n",
      "Epoch 14 Batch 450 Loss 3.2033 Accuracy 0.5481\n",
      "Epoch 14 Batch 500 Loss 3.2027 Accuracy 0.5482\n",
      "Epoch 14 Batch 550 Loss 3.2042 Accuracy 0.5481\n",
      "Epoch 14 Batch 600 Loss 3.1989 Accuracy 0.5490\n",
      "Epoch 14 Batch 650 Loss 3.1937 Accuracy 0.5496\n",
      "Epoch 14 Batch 700 Loss 3.1722 Accuracy 0.5518\n",
      "Epoch 14 Loss 3.1721 Accuracy 0.5518\n",
      "Time taken for 1 epoch: 118.01613330841064 secs\n",
      "\n",
      "Epoch 15 Batch 0 Loss 2.6844 Accuracy 0.6208\n",
      "Epoch 15 Batch 50 Loss 2.7678 Accuracy 0.5980\n",
      "Epoch 15 Batch 100 Loss 2.8377 Accuracy 0.5886\n",
      "Epoch 15 Batch 150 Loss 2.8224 Accuracy 0.5914\n",
      "Epoch 15 Batch 200 Loss 2.8283 Accuracy 0.5908\n",
      "Epoch 15 Batch 250 Loss 2.8192 Accuracy 0.5927\n",
      "Epoch 15 Batch 300 Loss 2.8070 Accuracy 0.5943\n",
      "Epoch 15 Batch 350 Loss 2.7993 Accuracy 0.5951\n",
      "Epoch 15 Batch 400 Loss 2.7932 Accuracy 0.5961\n",
      "Epoch 15 Batch 450 Loss 2.7906 Accuracy 0.5965\n",
      "Epoch 15 Batch 500 Loss 2.7913 Accuracy 0.5964\n",
      "Epoch 15 Batch 550 Loss 2.7908 Accuracy 0.5964\n",
      "Epoch 15 Batch 600 Loss 2.7898 Accuracy 0.5965\n",
      "Epoch 15 Batch 650 Loss 2.7825 Accuracy 0.5975\n",
      "Epoch 15 Batch 700 Loss 2.7833 Accuracy 0.5974\n",
      "Saving checkpoint for epoch 15 at ./checkpoints/train\\ckpt-3\n",
      "Epoch 15 Loss 2.7835 Accuracy 0.5974\n",
      "Time taken for 1 epoch: 119.35808825492859 secs\n",
      "\n",
      "Epoch 16 Batch 0 Loss 2.5958 Accuracy 0.6190\n",
      "Epoch 16 Batch 50 Loss 2.6910 Accuracy 0.6069\n",
      "Epoch 16 Batch 100 Loss 2.6959 Accuracy 0.6071\n",
      "Epoch 16 Batch 150 Loss 2.7024 Accuracy 0.6061\n",
      "Epoch 16 Batch 200 Loss 2.7000 Accuracy 0.6063\n",
      "Epoch 16 Batch 250 Loss 2.6998 Accuracy 0.6062\n",
      "Epoch 16 Batch 300 Loss 2.7040 Accuracy 0.6058\n",
      "Epoch 16 Batch 350 Loss 2.7045 Accuracy 0.6057\n",
      "Epoch 16 Batch 400 Loss 2.7033 Accuracy 0.6058\n",
      "Epoch 16 Batch 450 Loss 2.7028 Accuracy 0.6058\n",
      "Epoch 16 Batch 500 Loss 2.7607 Accuracy 0.6006\n",
      "Epoch 16 Batch 550 Loss 2.8206 Accuracy 0.5947\n",
      "Epoch 16 Batch 600 Loss 2.8375 Accuracy 0.5931\n",
      "Epoch 16 Batch 650 Loss 2.8300 Accuracy 0.5938\n",
      "Epoch 16 Batch 700 Loss 2.8257 Accuracy 0.5941\n",
      "Epoch 16 Loss 2.8260 Accuracy 0.5941\n",
      "Time taken for 1 epoch: 118.27076196670532 secs\n",
      "\n",
      "Epoch 17 Batch 0 Loss 3.0436 Accuracy 0.5594\n",
      "Epoch 17 Batch 50 Loss 2.7263 Accuracy 0.6031\n",
      "Epoch 17 Batch 100 Loss 2.7052 Accuracy 0.6068\n",
      "Epoch 17 Batch 150 Loss 2.7055 Accuracy 0.6066\n",
      "Epoch 17 Batch 200 Loss 2.7117 Accuracy 0.6053\n",
      "Epoch 17 Batch 250 Loss 2.7220 Accuracy 0.6043\n",
      "Epoch 17 Batch 300 Loss 2.7303 Accuracy 0.6034\n",
      "Epoch 17 Batch 350 Loss 2.7389 Accuracy 0.6026\n",
      "Epoch 17 Batch 400 Loss 2.7393 Accuracy 0.6025\n",
      "Epoch 17 Batch 450 Loss 2.7390 Accuracy 0.6023\n",
      "Epoch 17 Batch 500 Loss 2.7412 Accuracy 0.6021\n",
      "Epoch 17 Batch 550 Loss 2.7366 Accuracy 0.6026\n",
      "Epoch 17 Batch 600 Loss 2.7387 Accuracy 0.6023\n",
      "Epoch 17 Batch 650 Loss 2.7419 Accuracy 0.6018\n",
      "Epoch 17 Batch 700 Loss 2.7434 Accuracy 0.6015\n",
      "Epoch 17 Loss 2.7431 Accuracy 0.6016\n",
      "Time taken for 1 epoch: 118.09255576133728 secs\n",
      "\n",
      "Epoch 18 Batch 0 Loss 2.6216 Accuracy 0.6127\n",
      "Epoch 18 Batch 50 Loss 2.6870 Accuracy 0.6070\n",
      "Epoch 18 Batch 100 Loss 2.7120 Accuracy 0.6036\n",
      "Epoch 18 Batch 150 Loss 2.7070 Accuracy 0.6037\n",
      "Epoch 18 Batch 200 Loss 2.7071 Accuracy 0.6043\n",
      "Epoch 18 Batch 250 Loss 2.7085 Accuracy 0.6043\n",
      "Epoch 18 Batch 300 Loss 2.7154 Accuracy 0.6037\n",
      "Epoch 18 Batch 350 Loss 2.7263 Accuracy 0.6027\n",
      "Epoch 18 Batch 400 Loss 2.7308 Accuracy 0.6023\n",
      "Epoch 18 Batch 450 Loss 2.7320 Accuracy 0.6023\n",
      "Epoch 18 Batch 500 Loss 2.7309 Accuracy 0.6025\n",
      "Epoch 18 Batch 550 Loss 2.7291 Accuracy 0.6029\n",
      "Epoch 18 Batch 600 Loss 2.7361 Accuracy 0.6024\n",
      "Epoch 18 Batch 650 Loss 2.7405 Accuracy 0.6022\n",
      "Epoch 18 Batch 700 Loss 2.7451 Accuracy 0.6020\n",
      "Epoch 18 Loss 2.7452 Accuracy 0.6019\n",
      "Time taken for 1 epoch: 118.14182662963867 secs\n",
      "\n",
      "Epoch 19 Batch 0 Loss 2.7718 Accuracy 0.6016\n",
      "Epoch 19 Batch 50 Loss 2.8048 Accuracy 0.5984\n",
      "Epoch 19 Batch 100 Loss 2.8095 Accuracy 0.5970\n",
      "Epoch 19 Batch 150 Loss 2.8103 Accuracy 0.5969\n",
      "Epoch 19 Batch 200 Loss 2.7993 Accuracy 0.5985\n",
      "Epoch 19 Batch 250 Loss 2.7918 Accuracy 0.5992\n",
      "Epoch 19 Batch 300 Loss 2.7818 Accuracy 0.6004\n",
      "Epoch 19 Batch 350 Loss 2.7778 Accuracy 0.6008\n",
      "Epoch 19 Batch 400 Loss 2.7783 Accuracy 0.6009\n",
      "Epoch 19 Batch 450 Loss 2.7742 Accuracy 0.6010\n",
      "Epoch 19 Batch 500 Loss 2.7757 Accuracy 0.6007\n",
      "Epoch 19 Batch 550 Loss 2.7784 Accuracy 0.6000\n",
      "Epoch 19 Batch 600 Loss 2.7769 Accuracy 0.5999\n",
      "Epoch 19 Batch 650 Loss 2.7721 Accuracy 0.6003\n",
      "Epoch 19 Batch 700 Loss 2.7701 Accuracy 0.6003\n",
      "Epoch 19 Loss 2.7701 Accuracy 0.6003\n",
      "Time taken for 1 epoch: 118.27622365951538 secs\n",
      "\n",
      "Epoch 20 Batch 0 Loss 2.7297 Accuracy 0.6066\n",
      "Epoch 20 Batch 50 Loss 2.7321 Accuracy 0.6020\n",
      "Epoch 20 Batch 100 Loss 2.7415 Accuracy 0.6001\n",
      "Epoch 20 Batch 150 Loss 2.7319 Accuracy 0.6018\n",
      "Epoch 20 Batch 200 Loss 2.7245 Accuracy 0.6027\n",
      "Epoch 20 Batch 250 Loss 2.7266 Accuracy 0.6025\n",
      "Epoch 20 Batch 300 Loss 2.7311 Accuracy 0.6025\n",
      "Epoch 20 Batch 350 Loss 2.7370 Accuracy 0.6020\n",
      "Epoch 20 Batch 400 Loss 2.7403 Accuracy 0.6016\n",
      "Epoch 20 Batch 450 Loss 2.7470 Accuracy 0.6007\n",
      "Epoch 20 Batch 500 Loss 2.7514 Accuracy 0.6002\n",
      "Epoch 20 Batch 550 Loss 2.7519 Accuracy 0.6002\n",
      "Epoch 20 Batch 600 Loss 2.7520 Accuracy 0.6003\n",
      "Epoch 20 Batch 650 Loss 2.7524 Accuracy 0.6004\n",
      "Epoch 20 Batch 700 Loss 2.7514 Accuracy 0.6006\n",
      "Saving checkpoint for epoch 20 at ./checkpoints/train\\ckpt-4\n",
      "Epoch 20 Loss 2.7515 Accuracy 0.6006\n",
      "Time taken for 1 epoch: 119.26501750946045 secs\n",
      "\n"
     ]
    }
   ],
   "source": [
    "for epoch in range(EPOCHS):\n",
    "    start = time.time()\n",
    "\n",
    "    train_loss.reset_states()\n",
    "    train_accuracy.reset_states()\n",
    "\n",
    "    # inp -> portuguese, tar -> english\n",
    "    for (batch, (inp, tar)) in enumerate(train_dataset):\n",
    "        train_step(inp, tar)\n",
    "\n",
    "        if batch % 50 == 0:\n",
    "            print ('Epoch {} Batch {} Loss {:.4f} Accuracy {:.4f}'.format(\n",
    "                epoch + 1, batch, train_loss.result(), train_accuracy.result()))\n",
    "\n",
    "    if (epoch + 1) % 5 == 0:\n",
    "        ckpt_save_path = ckpt_manager.save()\n",
    "        print ('Saving checkpoint for epoch {} at {}'.format(epoch+1,\n",
    "                                                         ckpt_save_path))\n",
    "\n",
    "    print ('Epoch {} Loss {:.4f} Accuracy {:.4f}'.format(epoch + 1, \n",
    "                                                train_loss.result(), \n",
    "                                                train_accuracy.result()))\n",
    "\n",
    "    print ('Time taken for 1 epoch: {} secs\\n'.format(time.time() - start))"
   ]
  },
  {
   "cell_type": "markdown",
   "metadata": {},
   "source": [
    "## 评估（Evaluate）"
   ]
  },
  {
   "cell_type": "markdown",
   "metadata": {},
   "source": [
    "以下步骤用于评估：\n",
    "\n",
    "+ 用葡萄牙语分词器（tokenizer_pt）编码输入语句。此外，添加开始和结束标记，这样输入就与模型训练的内容相同。这是编码器输入。\n",
    "+ 解码器输入为 start token == tokenizer_en.vocab_size。\n",
    "+ 计算填充遮挡和前瞻遮挡。\n",
    "+ 解码器通过查看编码器输出和它自身的输出（自注意力）给出预测。\n",
    "+ 选择最后一个词并计算它的 argmax。\n",
    "+ 将预测的词连接到解码器输入，然后传递给解码器。\n",
    "+ 在这种方法中，解码器根据它预测的之前的词预测下一个。\n",
    "\n",
    "\n",
    "Note：这里使用的模型具有较小的能力以保持相对较快，因此预测可能不太正确。要复现论文中的结果，请使用全部数据集，并通过修改上述超参数来使用基础 transformer 模型或者 transformer XL。"
   ]
  },
  {
   "cell_type": "code",
   "execution_count": 102,
   "metadata": {},
   "outputs": [],
   "source": [
    "def evaluate(inp_sentence):\n",
    "    start_token = [tokenizer_pt.vocab_size]\n",
    "    end_token = [tokenizer_pt.vocab_size + 1]\n",
    "\n",
    "    # 输入语句是葡萄牙语，增加开始和结束标记\n",
    "    inp_sentence = start_token + tokenizer_pt.encode(inp_sentence) + end_token\n",
    "    encoder_input = tf.expand_dims(inp_sentence, 0)\n",
    "\n",
    "    # 因为目标是英语，输入 transformer 的第一个词应该是\n",
    "    # 英语的开始标记。\n",
    "    decoder_input = [tokenizer_en.vocab_size]\n",
    "    output = tf.expand_dims(decoder_input, 0)\n",
    "    print(\"1\")\n",
    "    for i in range(MAX_LENGTH):\n",
    "        enc_padding_mask, combined_mask, dec_padding_mask = create_masks(\n",
    "            encoder_input, output)\n",
    "\n",
    "        # predictions.shape == (batch_size, seq_len, vocab_size)\n",
    "        predictions, attention_weights = transformer(encoder_input, \n",
    "                                                     output,\n",
    "                                                     False,\n",
    "                                                     enc_padding_mask,\n",
    "                                                     combined_mask,\n",
    "                                                     dec_padding_mask)\n",
    "\n",
    "        # 从 seq_len 维度选择最后一个词\n",
    "        predictions = predictions[: ,-1:, :]  # (batch_size, 1, vocab_size)\n",
    "        print(\"2\")\n",
    "        print(predictions)\n",
    "        predicted_id = tf.cast(tf.argmax(predictions, axis=-1), tf.int32)\n",
    "        print(\"3\")\n",
    "        print(predicted_id)\n",
    "        # 如果 predicted_id 等于结束标记，就返回结果\n",
    "        if predicted_id == tokenizer_en.vocab_size+1:\n",
    "            return tf.squeeze(output, axis=0), attention_weights\n",
    "        print(\"4\")\n",
    "        # 连接 predicted_id 与输出，作为解码器的输入传递到解码器。\n",
    "        output = tf.concat([output, predicted_id], axis=-1)\n",
    "        print(\"5\")\n",
    "    return tf.squeeze(output, axis=0), attention_weights"
   ]
  },
  {
   "cell_type": "code",
   "execution_count": 103,
   "metadata": {},
   "outputs": [],
   "source": [
    "def plot_attention_weights(attention, sentence, result, layer):\n",
    "    fig = plt.figure(figsize=(16, 8))\n",
    "\n",
    "    sentence = tokenizer_pt.encode(sentence)\n",
    "\n",
    "    attention = tf.squeeze(attention[layer], axis=0)\n",
    "\n",
    "    for head in range(attention.shape[0]):\n",
    "        ax = fig.add_subplot(2, 4, head+1)\n",
    "\n",
    "        # 画出注意力权重\n",
    "        ax.matshow(attention[head][:-1, :], cmap='viridis')\n",
    "\n",
    "        fontdict = {'fontsize': 10}\n",
    "\n",
    "        ax.set_xticks(range(len(sentence)+2))\n",
    "        ax.set_yticks(range(len(result)))\n",
    "\n",
    "        ax.set_ylim(len(result)-1.5, -0.5)\n",
    "\n",
    "        ax.set_xticklabels(\n",
    "            ['<start>']+[tokenizer_pt.decode([i]) for i in sentence]+['<end>'], \n",
    "            fontdict=fontdict, rotation=90)\n",
    "\n",
    "        ax.set_yticklabels([tokenizer_en.decode([i]) for i in result \n",
    "                            if i < tokenizer_en.vocab_size], \n",
    "                           fontdict=fontdict)\n",
    "\n",
    "        ax.set_xlabel('Head {}'.format(head+1))\n",
    "\n",
    "    plt.tight_layout()\n",
    "    plt.show()"
   ]
  },
  {
   "cell_type": "code",
   "execution_count": 104,
   "metadata": {},
   "outputs": [],
   "source": [
    "def translate(sentence, plot=''):\n",
    "    result, attention_weights = evaluate(sentence)\n",
    "    print(result.numpy())\n",
    "    predicted_sentence = tokenizer_en.decode([i for i in result \n",
    "                                            if i < tokenizer_en.vocab_size])  \n",
    "\n",
    "    print('Input: {}'.format(sentence))\n",
    "    print('Predicted translation: {}'.format(predicted_sentence))\n",
    "\n",
    "    if plot:\n",
    "        plot_attention_weights(attention_weights, sentence, result, plot)"
   ]
  },
  {
   "cell_type": "code",
   "execution_count": 105,
   "metadata": {},
   "outputs": [
    {
     "name": "stdout",
     "output_type": "stream",
     "text": [
      "1\n",
      "2\n",
      "tf.Tensor(\n",
      "[[[ -0.1039823  -2.517206    3.269055  ... -12.327451  -12.299545\n",
      "    11.941761 ]]], shape=(1, 1, 8089), dtype=float32)\n",
      "3\n",
      "tf.Tensor([[8088]], shape=(1, 1), dtype=int32)\n",
      "[8087]\n",
      "Input: este é um problema que temos que resolver.\n",
      "Predicted translation: \n",
      "Real translation: this is a problem we have to solve .\n"
     ]
    }
   ],
   "source": [
    "translate(\"este é um problema que temos que resolver.\")\n",
    "print (\"Real translation: this is a problem we have to solve .\")"
   ]
  },
  {
   "cell_type": "code",
   "execution_count": 100,
   "metadata": {},
   "outputs": [
    {
     "name": "stdout",
     "output_type": "stream",
     "text": [
      "1\n",
      "2\n",
      "tf.Tensor(\n",
      "[[[  0.04906645  -2.3871815    3.5137234  ... -12.109138   -12.086848\n",
      "    11.908133  ]]], shape=(1, 1, 8089), dtype=float32)\n",
      "3\n",
      "tf.Tensor([[8088]], shape=(1, 1), dtype=int32)\n",
      "[8087]\n",
      "Input: os meus vizinhos ouviram sobre esta ideia.\n",
      "Predicted translation: \n",
      "Real translation: and my neighboring homes heard about this idea .\n"
     ]
    }
   ],
   "source": [
    "translate(\"os meus vizinhos ouviram sobre esta ideia.\")\n",
    "print (\"Real translation: and my neighboring homes heard about this idea .\")"
   ]
  },
  {
   "cell_type": "code",
   "execution_count": 106,
   "metadata": {},
   "outputs": [
    {
     "name": "stdout",
     "output_type": "stream",
     "text": [
      "1\n",
      "2\n",
      "tf.Tensor(\n",
      "[[[ -0.7790793  -2.7278092   3.0551472 ... -13.353612  -13.307756\n",
      "    10.714002 ]]], shape=(1, 1, 8089), dtype=float32)\n",
      "3\n",
      "tf.Tensor([[8088]], shape=(1, 1), dtype=int32)\n",
      "[8087]\n",
      "Input: vou então muito rapidamente partilhar convosco algumas histórias de algumas coisas mágicas que aconteceram.\n",
      "Predicted translation: \n",
      "Real translation: so i 'll just share with you some stories very quickly of some magical things that have happened .\n"
     ]
    }
   ],
   "source": [
    "translate(\"vou então muito rapidamente partilhar convosco algumas histórias de algumas coisas mágicas que aconteceram.\")\n",
    "print (\"Real translation: so i 'll just share with you some stories very quickly of some magical things that have happened .\")"
   ]
  },
  {
   "cell_type": "markdown",
   "metadata": {},
   "source": [
    "您可以为 plot 参数传递不同的层和解码器的注意力模块。"
   ]
  },
  {
   "cell_type": "code",
   "execution_count": 95,
   "metadata": {},
   "outputs": [
    {
     "name": "stdout",
     "output_type": "stream",
     "text": [
      "1\n",
      "2\n",
      "3\n",
      "[8087]\n",
      "Input: este é o primeiro livro que eu fiz.\n",
      "Predicted translation: \n"
     ]
    },
    {
     "name": "stderr",
     "output_type": "stream",
     "text": [
      "F:\\anaconda3\\envs\\tensorflow_env\\lib\\site-packages\\ipykernel_launcher.py:12: UserWarning: Attempting to set identical bottom == top == -0.5 results in singular transformations; automatically expanding.\n",
      "  if sys.path[0] == '':\n",
      "F:\\anaconda3\\envs\\tensorflow_env\\lib\\site-packages\\ipykernel_launcher.py:19: UserWarning: Attempting to set identical bottom == top == -0.5 results in singular transformations; automatically expanding.\n"
     ]
    },
    {
     "data": {
      "image/png": "[encoded data removed]",
      "text/plain": [
       "<Figure size 1152x576 with 8 Axes>"
      ]
     },
     "metadata": {
      "needs_background": "light"
     },
     "output_type": "display_data"
    },
    {
     "name": "stdout",
     "output_type": "stream",
     "text": [
      "Real translation: this is the first book i've ever done.\n"
     ]
    }
   ],
   "source": [
    "translate(\"este é o primeiro livro que eu fiz.\", plot='decoder_layer4_block2')\n",
    "print (\"Real translation: this is the first book i've ever done.\")"
   ]
  },
  {
   "cell_type": "code",
   "execution_count": null,
   "metadata": {},
   "outputs": [],
   "source": []
  }
 ],
 "metadata": {
  "kernelspec": {
   "display_name": "Python [conda env:tensorflow_env]",
   "language": "python",
   "name": "conda-env-tensorflow_env-py"
  },
  "language_info": {
   "codemirror_mode": {
    "name": "ipython",
    "version": 3
   },
   "file_extension": ".py",
   "mimetype": "text/x-python",
   "name": "python",
   "nbconvert_exporter": "python",
   "pygments_lexer": "ipython3",
   "version": "3.7.7"
  },
  "toc": {
   "base_numbering": 1,
   "nav_menu": {},
   "number_sections": true,
   "sideBar": true,
   "skip_h1_title": false,
   "title_cell": "Table of Contents",
   "title_sidebar": "Contents",
   "toc_cell": false,
   "toc_position": {},
   "toc_section_display": true,
   "toc_window_display": false
  }
 },
 "nbformat": 4,
 "nbformat_minor": 4
}
